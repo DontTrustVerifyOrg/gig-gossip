{
 "cells": [
  {
   "cell_type": "code",
   "execution_count": 38,
   "id": "1bf28b54",
   "metadata": {},
   "outputs": [],
   "source": [
    "import wallet\n",
    "import enumsandcodes"
   ]
  },
  {
   "cell_type": "code",
   "execution_count": 39,
   "id": "680fc08c",
   "metadata": {},
   "outputs": [],
   "source": [
    "privkey = \"ba1645d275fd3bf4ec9f0a6d5620ea65de1dadf879fed5605d9a33ef32fe1522\"\n",
    "pubkey = \"9cc8d3fe809f800a7235c8e29dfe2b6be2e6220aa98c568f05a77ab5449d63b6\""
   ]
  },
  {
   "cell_type": "code",
   "execution_count": 40,
   "id": "6e534f5f",
   "metadata": {},
   "outputs": [],
   "source": [
    "base_url = \"http://localhost:7101\""
   ]
  },
  {
   "cell_type": "code",
   "execution_count": 41,
   "id": "87e032a5",
   "metadata": {},
   "outputs": [],
   "source": [
    "w1 = wallet.Wallet(base_url, privkey, pubkey)"
   ]
  },
  {
   "cell_type": "code",
   "execution_count": 42,
   "id": "bb5ee877",
   "metadata": {},
   "outputs": [
    {
     "data": {
      "text/plain": [
       "b'CkAKEgoQQwFE1OmnTSahjeOjFYelZRIiCiCcyNP+gJ+ACnI1yOKd/itr4uYiCqmMVo8Fp3q1RJ1jthoGCJWSircGEkIKQHdQU8n+2XtGoifE0e2u9gvwzxZeulid+nakiBIuza1x+R24b9ktnG2gpKdOXvXg3Ptb4YAmc0IPSWKrkVinec0='"
      ]
     },
     "execution_count": 42,
     "metadata": {},
     "output_type": "execute_result"
    }
   ],
   "source": [
    "w1.create_authtoken()"
   ]
  },
  {
   "cell_type": "code",
   "execution_count": 43,
   "id": "b0cd1410",
   "metadata": {},
   "outputs": [
    {
     "data": {
      "text/plain": [
       "{'value': {'availableAmount': 3000,\n",
       "  'incomingNotConfirmed': 0,\n",
       "  'incomingAcceptedNotSettled': 0,\n",
       "  'outgoingInFlightPayments': 0,\n",
       "  'outgoingInProgressPayouts': 0,\n",
       "  'outgoingPaymentFees': 0,\n",
       "  'outgoingInFlightPaymentFees': 0,\n",
       "  'outgoingPayoutFees': 0,\n",
       "  'outgoingInProgressPayoutFees': 0},\n",
       " 'errorCode': 0,\n",
       " 'errorMessage': ''}"
      ]
     },
     "execution_count": 43,
     "metadata": {},
     "output_type": "execute_result"
    }
   ],
   "source": [
    "w1.getbalance()"
   ]
  },
  {
   "cell_type": "code",
   "execution_count": 44,
   "id": "9e461354",
   "metadata": {},
   "outputs": [
    {
     "data": {
      "text/plain": [
       "{'errorCode': 0, 'errorMessage': ''}"
      ]
     },
     "execution_count": 44,
     "metadata": {},
     "output_type": "execute_result"
    }
   ],
   "source": [
    "w1.topupandmine6blocks(w1.newaddress()[\"value\"], 1000)"
   ]
  },
  {
   "cell_type": "code",
   "execution_count": 45,
   "id": "33127961",
   "metadata": {},
   "outputs": [
    {
     "data": {
      "text/plain": [
       "{'value': {'availableAmount': 4000,\n",
       "  'incomingNotConfirmed': 0,\n",
       "  'incomingAcceptedNotSettled': 0,\n",
       "  'outgoingInFlightPayments': 0,\n",
       "  'outgoingInProgressPayouts': 0,\n",
       "  'outgoingPaymentFees': 0,\n",
       "  'outgoingInFlightPaymentFees': 0,\n",
       "  'outgoingPayoutFees': 0,\n",
       "  'outgoingInProgressPayoutFees': 0},\n",
       " 'errorCode': 0,\n",
       " 'errorMessage': ''}"
      ]
     },
     "execution_count": 45,
     "metadata": {},
     "output_type": "execute_result"
    }
   ],
   "source": [
    "w1.getbalance()"
   ]
  },
  {
   "cell_type": "code",
   "execution_count": 46,
   "id": "2fb871d4",
   "metadata": {},
   "outputs": [
    {
     "data": {
      "text/plain": [
       "{'value': [], 'errorCode': 0, 'errorMessage': ''}"
      ]
     },
     "execution_count": 46,
     "metadata": {},
     "output_type": "execute_result"
    }
   ],
   "source": [
    "w1.listinvoices()"
   ]
  },
  {
   "cell_type": "code",
   "execution_count": 47,
   "id": "1b604e99",
   "metadata": {},
   "outputs": [],
   "source": [
    "inv = w1.addinvoice(10000,\"test\",10)[\"value\"]"
   ]
  },
  {
   "cell_type": "code",
   "execution_count": 52,
   "id": "d9e4bdb9",
   "metadata": {},
   "outputs": [],
   "source": [
    "payr=w1.sendpayment(inv[\"paymentRequest\"],100,1000)"
   ]
  },
  {
   "cell_type": "code",
   "execution_count": 54,
   "id": "4e309108",
   "metadata": {},
   "outputs": [
    {
     "ename": "NameError",
     "evalue": "name 'PaymentStatus' is not defined",
     "output_type": "error",
     "traceback": [
      "\u001b[0;31m---------------------------------------------------------------------------\u001b[0m",
      "\u001b[0;31mNameError\u001b[0m                                 Traceback (most recent call last)",
      "Cell \u001b[0;32mIn[54], line 1\u001b[0m\n\u001b[0;32m----> 1\u001b[0m \u001b[43mPaymentStatus\u001b[49m(payr[\u001b[38;5;124m\"\u001b[39m\u001b[38;5;124mvalue\u001b[39m\u001b[38;5;124m\"\u001b[39m][\u001b[38;5;124m\"\u001b[39m\u001b[38;5;124mstatus\u001b[39m\u001b[38;5;124m\"\u001b[39m])\n",
      "\u001b[0;31mNameError\u001b[0m: name 'PaymentStatus' is not defined"
     ]
    }
   ],
   "source": [
    " PaymentStatus(payr[\"value\"][\"status\"])"
   ]
  },
  {
   "cell_type": "code",
   "execution_count": 49,
   "id": "fc87b342",
   "metadata": {},
   "outputs": [
    {
     "data": {
      "text/plain": [
       "{'value': [{'paymentRequest': 'lnbcrt100u1pnw9zgapp5h847kz8h97rf2p53ve8nx9460ae0lvvsq59yff8jjuayxlvtj3yqdq8w3jhxaqcqzzsxqp2sp5e7e9tqwrjysql99mct7nsrdqez73dx7k93d0hxkzg6630fcf6c0s9p4gqqqqqqqqqqqqqqqqqqqqqqqqqqqqqqqqqqqqqqqqqqqqqqpqysgqstutkfurgsrw9r6rgkavmuv4padz2vr4x48gt90cjuk2whuqz7kjfjp6tec82wh4x5kdw2rcfjh2ad9x355yp9kycpy9ecgw38fzfmcq534mm4',\n",
       "   'state': 0,\n",
       "   'isHodl': False,\n",
       "   'settleTime': '1970-01-01T00:00:00Z',\n",
       "   'paymentHash': 'b9ebeb08f72f86950691664f3316ba7f72ffb190050a44a4f2973a437d8b9448',\n",
       "   'satoshis': 10000,\n",
       "   'paymentAddr': 'cfb25581c391200f94bbc2fd380da0c8bd169bd62c5afb9ac246b517a709d61f',\n",
       "   'memo': 'test',\n",
       "   'creationTime': '2024-09-12T06:24:29Z',\n",
       "   'expiryTime': '2024-09-12T06:24:39Z'}],\n",
       " 'errorCode': 0,\n",
       " 'errorMessage': ''}"
      ]
     },
     "execution_count": 49,
     "metadata": {},
     "output_type": "execute_result"
    }
   ],
   "source": [
    "w1.listinvoices()"
   ]
  },
  {
   "cell_type": "code",
   "execution_count": 50,
   "id": "209c49a0",
   "metadata": {},
   "outputs": [
    {
     "data": {
      "text/plain": [
       "{'value': {'paymentRequest': 'lnbcrt100u1pnwylclpp5g5xcpnrlhpp5xn82tlw4ral8esq89rm8l2r59ju3mr0ul23uvaqqdq8w3jhxaqcqzzsxqp2sp5hcn94q29vk8w8yya0ws4vyxp4s0vne2j6rvsszmv0h9ty2nuy6uq9p4gqqqqqqqqqqqqqqqqqqqqqqqqqqqqqqqqqqqqqqqqqqqqqqpqysgqduh30n6tpep5yz2jt785td0j2rspnskdu7ga8w7s0v9c3jvyptmyyjtuyan2w64p0jpr59xrm8pmt380lqr7fmqda4dsyafutuagmwqpvk35zf',\n",
       "  'state': 2,\n",
       "  'isHodl': False,\n",
       "  'settleTime': '1970-01-01T00:00:00Z',\n",
       "  'paymentHash': '450d80cc7fb843434cea5fdd51f7e7cc00728f67fa8742cb91d8dfcfaa3c6740',\n",
       "  'satoshis': 10000,\n",
       "  'paymentAddr': 'be265a8145658ee3909d7ba15610c1ac1ec9e552d0d9080b6c7dcab22a7c26b8',\n",
       "  'memo': 'test',\n",
       "  'creationTime': '2024-09-12T05:41:51Z',\n",
       "  'expiryTime': '2024-09-12T05:42:01Z'},\n",
       " 'errorCode': 0,\n",
       " 'errorMessage': ''}"
      ]
     },
     "execution_count": 50,
     "metadata": {},
     "output_type": "execute_result"
    }
   ],
   "source": [
    "w1.getinvoice(\"450d80cc7fb843434cea5fdd51f7e7cc00728f67fa8742cb91d8dfcfaa3c6740\")"
   ]
  },
  {
   "cell_type": "code",
   "execution_count": 51,
   "id": "85bc60e8",
   "metadata": {},
   "outputs": [],
   "source": [
    "from random import randbytes"
   ]
  },
  {
   "cell_type": "code",
   "execution_count": 24,
   "id": "fb6c6c13",
   "metadata": {},
   "outputs": [],
   "source": [
    "preim = randbytes(32)"
   ]
  },
  {
   "cell_type": "code",
   "execution_count": 25,
   "id": "df8ca2eb",
   "metadata": {},
   "outputs": [
    {
     "name": "stdout",
     "output_type": "stream",
     "text": [
      "{'value': {'paymentRequest': 'lnbcrt100u1pnw9pw9pp5rp5xjs4uvqkf4lqsvpvplg2ae7k2wj44wsey94qwhh25t6kpeytsdq8w3jhxaqcqzzsxqp2sp5tmjjqxpkm5qxj93f5ltve2dlekl25dq4z3qxqmluf7y6vdykw95q9p4gqqqqqqqqqqqqqqqqqqqqqqqqqqqqqqqqqqqqqqqqqqqqqqpqysgqkq9ywq4tf7jntl0hdmxq4qraxm74q77uyn5p3f78hncz8hw205unxc4zv08enqnrwavxm5f4qpx6386wj542etpkpd6aqtt0ausy67gpw069t8', 'state': 0, 'isHodl': True, 'settleTime': None, 'paymentHash': '18686942bc602c9afc1060581fa15dcfaca74ab5743242d40ebdd545eac1c917', 'satoshis': 10000, 'paymentAddr': '5ee5201836dd00691629a7d6cca9bfcdbeaa34151440606ffc4f89a634967168', 'memo': 'test', 'creationTime': '2024-09-12T06:10:13Z', 'expiryTime': '2024-09-12T06:10:23Z'}, 'errorCode': 0, 'errorMessage': ''}\n"
     ]
    },
    {
     "data": {
      "text/plain": [
       "{'value': {'paymentRequest': 'lnbcrt100u1pnw9pw9pp5rp5xjs4uvqkf4lqsvpvplg2ae7k2wj44wsey94qwhh25t6kpeytsdq8w3jhxaqcqzzsxqp2sp5tmjjqxpkm5qxj93f5ltve2dlekl25dq4z3qxqmluf7y6vdykw95q9p4gqqqqqqqqqqqqqqqqqqqqqqqqqqqqqqqqqqqqqqqqqqqqqqpqysgqkq9ywq4tf7jntl0hdmxq4qraxm74q77uyn5p3f78hncz8hw205unxc4zv08enqnrwavxm5f4qpx6386wj542etpkpd6aqtt0ausy67gpw069t8',\n",
       "  'state': 0,\n",
       "  'isHodl': True,\n",
       "  'settleTime': None,\n",
       "  'paymentHash': '18686942bc602c9afc1060581fa15dcfaca74ab5743242d40ebdd545eac1c917',\n",
       "  'satoshis': 10000,\n",
       "  'paymentAddr': '5ee5201836dd00691629a7d6cca9bfcdbeaa34151440606ffc4f89a634967168',\n",
       "  'memo': 'test',\n",
       "  'creationTime': '2024-09-12T06:10:13Z',\n",
       "  'expiryTime': '2024-09-12T06:10:23Z'},\n",
       " 'errorCode': 0,\n",
       " 'errorMessage': ''}"
      ]
     },
     "execution_count": 25,
     "metadata": {},
     "output_type": "execute_result"
    }
   ],
   "source": [
    "w1.addhodlinvoice(10000,preim.hex(),\"test\",10)"
   ]
  },
  {
   "cell_type": "code",
   "execution_count": 26,
   "id": "c4bc7faa",
   "metadata": {},
   "outputs": [
    {
     "data": {
      "text/plain": [
       "{'errorCode': 12,\n",
       " 'errorMessage': 'Status(StatusCode=\"NotFound\", Detail=\"unable to locate invoice\")'}"
      ]
     },
     "execution_count": 26,
     "metadata": {},
     "output_type": "execute_result"
    }
   ],
   "source": [
    "w1.settleinvoice(preim.hex())"
   ]
  },
  {
   "cell_type": "code",
   "execution_count": 27,
   "id": "58ea2361",
   "metadata": {},
   "outputs": [
    {
     "data": {
      "text/plain": [
       "{'value': [{'paymentRequest': 'lnbcrt100u1pnw9pdlpp52rc65jemlc7sp6v8kdp66m7tplt8w77ccydah8udjulh75ktulkqdq8w3jhxaqcqzzsxqp2sp57lzwyktkf9jnz793utpdscxuxjhu5knu3hr0um2x8hraz3u89thq9p4gqqqqqqqqqqqqqqqqqqqqqqqqqqqqqqqqqqqqqqqqqqqqqqpqysgqhkxvnmfnywnzx04mnxdkt232ga7pqataut9xgms2g40w0qgyxr6xw8c5yj96kmukyl90cf88vuuuwt2jmet5p4da8u3t4etldkjcqhcp2n05fy',\n",
       "   'state': 0,\n",
       "   'isHodl': False,\n",
       "   'settleTime': '1970-01-01T00:00:00Z',\n",
       "   'paymentHash': '50f1aa4b3bfe3d00e987b343ad6fcb0fd6777bd8c11bdb9f8d973f7f52cbe7ec',\n",
       "   'satoshis': 10000,\n",
       "   'paymentAddr': 'f7c4e2597649653178b1e2c2d860dc34afca5a7c8dc6fe6d463dc7d147872aee',\n",
       "   'memo': 'test',\n",
       "   'creationTime': '2024-09-12T06:10:07Z',\n",
       "   'expiryTime': '2024-09-12T06:10:17Z'},\n",
       "  {'paymentRequest': 'lnbcrt100u1pnw9pw9pp5rp5xjs4uvqkf4lqsvpvplg2ae7k2wj44wsey94qwhh25t6kpeytsdq8w3jhxaqcqzzsxqp2sp5tmjjqxpkm5qxj93f5ltve2dlekl25dq4z3qxqmluf7y6vdykw95q9p4gqqqqqqqqqqqqqqqqqqqqqqqqqqqqqqqqqqqqqqqqqqqqqqpqysgqkq9ywq4tf7jntl0hdmxq4qraxm74q77uyn5p3f78hncz8hw205unxc4zv08enqnrwavxm5f4qpx6386wj542etpkpd6aqtt0ausy67gpw069t8',\n",
       "   'state': 0,\n",
       "   'isHodl': True,\n",
       "   'settleTime': '1970-01-01T00:00:00Z',\n",
       "   'paymentHash': '18686942bc602c9afc1060581fa15dcfaca74ab5743242d40ebdd545eac1c917',\n",
       "   'satoshis': 10000,\n",
       "   'paymentAddr': '5ee5201836dd00691629a7d6cca9bfcdbeaa34151440606ffc4f89a634967168',\n",
       "   'memo': 'test',\n",
       "   'creationTime': '2024-09-12T06:10:13Z',\n",
       "   'expiryTime': '2024-09-12T06:10:23Z'}],\n",
       " 'errorCode': 0,\n",
       " 'errorMessage': ''}"
      ]
     },
     "execution_count": 27,
     "metadata": {},
     "output_type": "execute_result"
    }
   ],
   "source": [
    "w1.listinvoices()"
   ]
  },
  {
   "cell_type": "code",
   "execution_count": null,
   "id": "39166a72",
   "metadata": {},
   "outputs": [],
   "source": []
  },
  {
   "cell_type": "code",
   "execution_count": null,
   "id": "88c35729",
   "metadata": {},
   "outputs": [],
   "source": []
  }
 ],
 "metadata": {
  "kernelspec": {
   "display_name": "Python 3 (ipykernel)",
   "language": "python",
   "name": "python3"
  },
  "language_info": {
   "codemirror_mode": {
    "name": "ipython",
    "version": 3
   },
   "file_extension": ".py",
   "mimetype": "text/x-python",
   "name": "python",
   "nbconvert_exporter": "python",
   "pygments_lexer": "ipython3",
   "version": "3.10.9"
  }
 },
 "nbformat": 4,
 "nbformat_minor": 5
}
