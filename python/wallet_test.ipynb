{
 "cells": [
  {
   "cell_type": "code",
   "execution_count": 1,
   "id": "1bf28b54",
   "metadata": {},
   "outputs": [],
   "source": [
    "import wallet\n",
    "import hashlib\n",
    "import pandas as pd\n",
    "from random import randbytes"
   ]
  },
  {
   "cell_type": "code",
   "execution_count": 2,
   "id": "240169fd",
   "metadata": {},
   "outputs": [],
   "source": [
    "exec(open(('./regtest.secret')).read())"
   ]
  },
  {
   "cell_type": "code",
   "execution_count": 3,
   "id": "87e032a5",
   "metadata": {},
   "outputs": [],
   "source": [
    "wallets = [wallet.Wallet(wallet_api, w) for w in wallet_priv_keys]"
   ]
  },
  {
   "cell_type": "code",
   "execution_count": 4,
   "id": "a75fdde0",
   "metadata": {},
   "outputs": [],
   "source": [
    "w0=wallets[0]\n",
    "w1=wallets[1]"
   ]
  },
  {
   "cell_type": "code",
   "execution_count": 6,
   "id": "b4c6e79a",
   "metadata": {},
   "outputs": [],
   "source": [
    "def get_balances_pd(wallets):\n",
    "    balance_pd=pd.concat([pd.DataFrame([w.getbalance()]).T for w in wallets], axis=1)\n",
    "    balance_pd.columns=[idx for idx,w in enumerate(wallets)]\n",
    "    return balance_pd"
   ]
  },
  {
   "cell_type": "code",
   "execution_count": 7,
   "id": "a3f1c99d",
   "metadata": {},
   "outputs": [],
   "source": [
    "w0.topupandmine6blocks( w0.newaddress(),10000)"
   ]
  },
  {
   "cell_type": "code",
   "execution_count": 11,
   "id": "7a9c552f",
   "metadata": {},
   "outputs": [
    {
     "data": {
      "text/html": [
       "<div>\n",
       "<style scoped>\n",
       "    .dataframe tbody tr th:only-of-type {\n",
       "        vertical-align: middle;\n",
       "    }\n",
       "\n",
       "    .dataframe tbody tr th {\n",
       "        vertical-align: top;\n",
       "    }\n",
       "\n",
       "    .dataframe thead th {\n",
       "        text-align: right;\n",
       "    }\n",
       "</style>\n",
       "<table border=\"1\" class=\"dataframe\">\n",
       "  <thead>\n",
       "    <tr style=\"text-align: right;\">\n",
       "      <th></th>\n",
       "      <th>0</th>\n",
       "      <th>1</th>\n",
       "    </tr>\n",
       "  </thead>\n",
       "  <tbody>\n",
       "    <tr>\n",
       "      <th>availableAmount</th>\n",
       "      <td>10000</td>\n",
       "      <td>0</td>\n",
       "    </tr>\n",
       "    <tr>\n",
       "      <th>totalAmount</th>\n",
       "      <td>10000</td>\n",
       "      <td>0</td>\n",
       "    </tr>\n",
       "    <tr>\n",
       "      <th>totalTopups</th>\n",
       "      <td>10000</td>\n",
       "      <td>0</td>\n",
       "    </tr>\n",
       "    <tr>\n",
       "      <th>notConfirmedTopups</th>\n",
       "      <td>0</td>\n",
       "      <td>0</td>\n",
       "    </tr>\n",
       "    <tr>\n",
       "      <th>settledEarnings</th>\n",
       "      <td>0</td>\n",
       "      <td>0</td>\n",
       "    </tr>\n",
       "    <tr>\n",
       "      <th>totalEarnings</th>\n",
       "      <td>0</td>\n",
       "      <td>0</td>\n",
       "    </tr>\n",
       "    <tr>\n",
       "      <th>totalPayments</th>\n",
       "      <td>0</td>\n",
       "      <td>0</td>\n",
       "    </tr>\n",
       "    <tr>\n",
       "      <th>inFlightPayments</th>\n",
       "      <td>0</td>\n",
       "      <td>0</td>\n",
       "    </tr>\n",
       "    <tr>\n",
       "      <th>totalPayouts</th>\n",
       "      <td>0</td>\n",
       "      <td>0</td>\n",
       "    </tr>\n",
       "    <tr>\n",
       "      <th>inProgressPayouts</th>\n",
       "      <td>0</td>\n",
       "      <td>0</td>\n",
       "    </tr>\n",
       "    <tr>\n",
       "      <th>totalPaymentFees</th>\n",
       "      <td>0</td>\n",
       "      <td>0</td>\n",
       "    </tr>\n",
       "    <tr>\n",
       "      <th>inFlightPaymentFees</th>\n",
       "      <td>0</td>\n",
       "      <td>0</td>\n",
       "    </tr>\n",
       "    <tr>\n",
       "      <th>totalPayoutOnChainFees</th>\n",
       "      <td>0</td>\n",
       "      <td>0</td>\n",
       "    </tr>\n",
       "    <tr>\n",
       "      <th>inProgressPayoutOnChainFees</th>\n",
       "      <td>0</td>\n",
       "      <td>0</td>\n",
       "    </tr>\n",
       "    <tr>\n",
       "      <th>totalPayoutFees</th>\n",
       "      <td>0</td>\n",
       "      <td>0</td>\n",
       "    </tr>\n",
       "    <tr>\n",
       "      <th>inProgressPayoutFees</th>\n",
       "      <td>0</td>\n",
       "      <td>0</td>\n",
       "    </tr>\n",
       "  </tbody>\n",
       "</table>\n",
       "</div>"
      ],
      "text/plain": [
       "                                 0  1\n",
       "availableAmount              10000  0\n",
       "totalAmount                  10000  0\n",
       "totalTopups                  10000  0\n",
       "notConfirmedTopups               0  0\n",
       "settledEarnings                  0  0\n",
       "totalEarnings                    0  0\n",
       "totalPayments                    0  0\n",
       "inFlightPayments                 0  0\n",
       "totalPayouts                     0  0\n",
       "inProgressPayouts                0  0\n",
       "totalPaymentFees                 0  0\n",
       "inFlightPaymentFees              0  0\n",
       "totalPayoutOnChainFees           0  0\n",
       "inProgressPayoutOnChainFees      0  0\n",
       "totalPayoutFees                  0  0\n",
       "inProgressPayoutFees             0  0"
      ]
     },
     "execution_count": 11,
     "metadata": {},
     "output_type": "execute_result"
    }
   ],
   "source": [
    "get_balances_pd(wallets)"
   ]
  },
  {
   "cell_type": "code",
   "execution_count": null,
   "id": "2fb871d4",
   "metadata": {},
   "outputs": [
    {
     "data": {
      "text/html": [
       "<div>\n",
       "<style scoped>\n",
       "    .dataframe tbody tr th:only-of-type {\n",
       "        vertical-align: middle;\n",
       "    }\n",
       "\n",
       "    .dataframe tbody tr th {\n",
       "        vertical-align: top;\n",
       "    }\n",
       "\n",
       "    .dataframe thead th {\n",
       "        text-align: right;\n",
       "    }\n",
       "</style>\n",
       "<table border=\"1\" class=\"dataframe\">\n",
       "  <thead>\n",
       "    <tr style=\"text-align: right;\">\n",
       "      <th></th>\n",
       "    </tr>\n",
       "  </thead>\n",
       "  <tbody>\n",
       "  </tbody>\n",
       "</table>\n",
       "</div>"
      ],
      "text/plain": [
       "Empty DataFrame\n",
       "Columns: []\n",
       "Index: []"
      ]
     },
     "execution_count": 12,
     "metadata": {},
     "output_type": "execute_result"
    }
   ],
   "source": []
  },
  {
   "cell_type": "code",
   "execution_count": 20,
   "id": "bd65927b",
   "metadata": {},
   "outputs": [],
   "source": [
    "w1inv = w1.addinvoice(3241,\"test1\",30)"
   ]
  },
  {
   "cell_type": "code",
   "execution_count": 21,
   "id": "cc5a9e77",
   "metadata": {},
   "outputs": [
    {
     "data": {
      "text/plain": [
       "{'paymentRequest': 'lnbcrt32410n1pn58s7upp5rafk3jtx40c6dkksts30npg5rwnrl38vzc5uql52g0lz4h4xymnqdqgw3jhxap3cqzzsxqp7sp5kjdclugkz87ekez6n6k5q3r45lncxqu6l2vha9lj6dj38aj9mk0q9p4gqqqqqqqqqqqqqqqqqqqqqqqqqqqqqqqqqqqqqqqqqqqqqqpqysgql9vmeaysc0fltyk478ezjslgzvdrh9kcj5v3xvcwfgrkg0fkmywydzde7swls9umvll0p5xmxlg5hhfz9lx75sy84mujuvxwv5mz4zsq3qs3tu',\n",
       " 'state': 0,\n",
       " 'isHodl': False,\n",
       " 'settleTime': None,\n",
       " 'paymentHash': '1f5368c966abf1a6dad05c22f985141ba63fc4ec1629c07e8a43fe2adea626e6',\n",
       " 'amount': 3241,\n",
       " 'currency': 'BTC',\n",
       " 'paymentAddr': 'b49b8ff11611fd9b645a9ead404475a7e783039afa997e97f2d36513f645dd9e',\n",
       " 'memo': 'test1',\n",
       " 'creationTime': '2024-11-25T00:25:00Z',\n",
       " 'expiryTime': '1970-01-01T00:01:00Z'}"
      ]
     },
     "execution_count": 21,
     "metadata": {},
     "output_type": "execute_result"
    }
   ],
   "source": [
    "w1inv"
   ]
  },
  {
   "cell_type": "code",
   "execution_count": 22,
   "id": "f288fc94",
   "metadata": {},
   "outputs": [
    {
     "data": {
      "text/plain": [
       "{'paymentHash': '1f5368c966abf1a6dad05c22f985141ba63fc4ec1629c07e8a43fe2adea626e6',\n",
       " 'status': 2,\n",
       " 'failureReason': 0,\n",
       " 'amount': 3241,\n",
       " 'currency': 'BTC',\n",
       " 'feeMsat': 1000000,\n",
       " 'creationTime': '2024-11-25T00:25:00Z'}"
      ]
     },
     "execution_count": 22,
     "metadata": {},
     "output_type": "execute_result"
    }
   ],
   "source": [
    "w0.sendpayment(w1inv[\"paymentRequest\"],10,1000)"
   ]
  },
  {
   "cell_type": "code",
   "execution_count": 27,
   "id": "901a5786",
   "metadata": {},
   "outputs": [
    {
     "data": {
      "text/html": [
       "<div>\n",
       "<style scoped>\n",
       "    .dataframe tbody tr th:only-of-type {\n",
       "        vertical-align: middle;\n",
       "    }\n",
       "\n",
       "    .dataframe tbody tr th {\n",
       "        vertical-align: top;\n",
       "    }\n",
       "\n",
       "    .dataframe thead th {\n",
       "        text-align: right;\n",
       "    }\n",
       "</style>\n",
       "<table border=\"1\" class=\"dataframe\">\n",
       "  <thead>\n",
       "    <tr style=\"text-align: right;\">\n",
       "      <th></th>\n",
       "      <th>paymentHash</th>\n",
       "      <th>status</th>\n",
       "      <th>failureReason</th>\n",
       "      <th>amount</th>\n",
       "      <th>currency</th>\n",
       "      <th>feeMsat</th>\n",
       "      <th>creationTime</th>\n",
       "    </tr>\n",
       "  </thead>\n",
       "  <tbody>\n",
       "    <tr>\n",
       "      <th>0</th>\n",
       "      <td>1f5368c966abf1a6dad05c22f985141ba63fc4ec1629c0...</td>\n",
       "      <td>2</td>\n",
       "      <td>0</td>\n",
       "      <td>3241</td>\n",
       "      <td>BTC</td>\n",
       "      <td>1000000</td>\n",
       "      <td>2024-11-25T00:25:03.54</td>\n",
       "    </tr>\n",
       "  </tbody>\n",
       "</table>\n",
       "</div>"
      ],
      "text/plain": [
       "                                         paymentHash  status  failureReason  \\\n",
       "0  1f5368c966abf1a6dad05c22f985141ba63fc4ec1629c0...       2              0   \n",
       "\n",
       "   amount currency  feeMsat            creationTime  \n",
       "0    3241      BTC  1000000  2024-11-25T00:25:03.54  "
      ]
     },
     "execution_count": 27,
     "metadata": {},
     "output_type": "execute_result"
    }
   ],
   "source": [
    "pd.DataFrame(w0.listpayments())"
   ]
  },
  {
   "cell_type": "code",
   "execution_count": null,
   "id": "e9e5aba6",
   "metadata": {},
   "outputs": [],
   "source": [
    "w0."
   ]
  },
  {
   "cell_type": "code",
   "execution_count": 23,
   "id": "caf810b4",
   "metadata": {},
   "outputs": [
    {
     "data": {
      "text/html": [
       "<div>\n",
       "<style scoped>\n",
       "    .dataframe tbody tr th:only-of-type {\n",
       "        vertical-align: middle;\n",
       "    }\n",
       "\n",
       "    .dataframe tbody tr th {\n",
       "        vertical-align: top;\n",
       "    }\n",
       "\n",
       "    .dataframe thead th {\n",
       "        text-align: right;\n",
       "    }\n",
       "</style>\n",
       "<table border=\"1\" class=\"dataframe\">\n",
       "  <thead>\n",
       "    <tr style=\"text-align: right;\">\n",
       "      <th></th>\n",
       "      <th>0</th>\n",
       "      <th>1</th>\n",
       "    </tr>\n",
       "  </thead>\n",
       "  <tbody>\n",
       "    <tr>\n",
       "      <th>availableAmount</th>\n",
       "      <td>5759</td>\n",
       "      <td>3241</td>\n",
       "    </tr>\n",
       "    <tr>\n",
       "      <th>totalAmount</th>\n",
       "      <td>5759</td>\n",
       "      <td>3241</td>\n",
       "    </tr>\n",
       "    <tr>\n",
       "      <th>totalTopups</th>\n",
       "      <td>10000</td>\n",
       "      <td>0</td>\n",
       "    </tr>\n",
       "    <tr>\n",
       "      <th>notConfirmedTopups</th>\n",
       "      <td>0</td>\n",
       "      <td>0</td>\n",
       "    </tr>\n",
       "    <tr>\n",
       "      <th>settledEarnings</th>\n",
       "      <td>0</td>\n",
       "      <td>3241</td>\n",
       "    </tr>\n",
       "    <tr>\n",
       "      <th>totalEarnings</th>\n",
       "      <td>0</td>\n",
       "      <td>3241</td>\n",
       "    </tr>\n",
       "    <tr>\n",
       "      <th>totalPayments</th>\n",
       "      <td>-3241</td>\n",
       "      <td>0</td>\n",
       "    </tr>\n",
       "    <tr>\n",
       "      <th>inFlightPayments</th>\n",
       "      <td>0</td>\n",
       "      <td>0</td>\n",
       "    </tr>\n",
       "    <tr>\n",
       "      <th>totalPayouts</th>\n",
       "      <td>0</td>\n",
       "      <td>0</td>\n",
       "    </tr>\n",
       "    <tr>\n",
       "      <th>inProgressPayouts</th>\n",
       "      <td>0</td>\n",
       "      <td>0</td>\n",
       "    </tr>\n",
       "    <tr>\n",
       "      <th>totalPaymentFees</th>\n",
       "      <td>-1000</td>\n",
       "      <td>0</td>\n",
       "    </tr>\n",
       "    <tr>\n",
       "      <th>inFlightPaymentFees</th>\n",
       "      <td>0</td>\n",
       "      <td>0</td>\n",
       "    </tr>\n",
       "    <tr>\n",
       "      <th>totalPayoutOnChainFees</th>\n",
       "      <td>0</td>\n",
       "      <td>0</td>\n",
       "    </tr>\n",
       "    <tr>\n",
       "      <th>inProgressPayoutOnChainFees</th>\n",
       "      <td>0</td>\n",
       "      <td>0</td>\n",
       "    </tr>\n",
       "    <tr>\n",
       "      <th>totalPayoutFees</th>\n",
       "      <td>0</td>\n",
       "      <td>0</td>\n",
       "    </tr>\n",
       "    <tr>\n",
       "      <th>inProgressPayoutFees</th>\n",
       "      <td>0</td>\n",
       "      <td>0</td>\n",
       "    </tr>\n",
       "  </tbody>\n",
       "</table>\n",
       "</div>"
      ],
      "text/plain": [
       "                                 0     1\n",
       "availableAmount               5759  3241\n",
       "totalAmount                   5759  3241\n",
       "totalTopups                  10000     0\n",
       "notConfirmedTopups               0     0\n",
       "settledEarnings                  0  3241\n",
       "totalEarnings                    0  3241\n",
       "totalPayments                -3241     0\n",
       "inFlightPayments                 0     0\n",
       "totalPayouts                     0     0\n",
       "inProgressPayouts                0     0\n",
       "totalPaymentFees             -1000     0\n",
       "inFlightPaymentFees              0     0\n",
       "totalPayoutOnChainFees           0     0\n",
       "inProgressPayoutOnChainFees      0     0\n",
       "totalPayoutFees                  0     0\n",
       "inProgressPayoutFees             0     0"
      ]
     },
     "execution_count": 23,
     "metadata": {},
     "output_type": "execute_result"
    }
   ],
   "source": [
    "get_balances_pd(wallets)"
   ]
  },
  {
   "cell_type": "code",
   "execution_count": 107,
   "id": "c6d9181c",
   "metadata": {},
   "outputs": [],
   "source": [
    "preim = randbytes(32)"
   ]
  },
  {
   "cell_type": "code",
   "execution_count": 108,
   "id": "17b3c043",
   "metadata": {},
   "outputs": [],
   "source": [
    "phash=hashlib.sha256(preim).digest().hex()"
   ]
  },
  {
   "cell_type": "code",
   "execution_count": 109,
   "id": "1d153831",
   "metadata": {},
   "outputs": [],
   "source": [
    "inv=w0.addhodlinvoice(satoshis=5000,hash=phash,memo=\"test\",expiry=20)"
   ]
  },
  {
   "cell_type": "code",
   "execution_count": 119,
   "id": "9c1d065e",
   "metadata": {},
   "outputs": [
    {
     "data": {
      "text/plain": [
       "<InvoiceState.Cancelled: 2>"
      ]
     },
     "execution_count": 119,
     "metadata": {},
     "output_type": "execute_result"
    }
   ],
   "source": [
    "wallet.InvoiceState(w0.getinvoice(inv['paymentHash'])[\"state\"])"
   ]
  },
  {
   "cell_type": "code",
   "execution_count": 111,
   "id": "0ff1029f",
   "metadata": {},
   "outputs": [
    {
     "data": {
      "text/plain": [
       "<PaymentFailureReason.Ok: 0>"
      ]
     },
     "execution_count": 111,
     "metadata": {},
     "output_type": "execute_result"
    }
   ],
   "source": [
    "wallet.PaymentFailureReason(w0.sendpayment(inv[\"paymentRequest\"],100,1000)[\"failureReason\"])"
   ]
  },
  {
   "cell_type": "code",
   "execution_count": 112,
   "id": "211f2f78",
   "metadata": {},
   "outputs": [],
   "source": [
    "inv2=w1.addinvoice(5000,\"test\",20)"
   ]
  },
  {
   "cell_type": "code",
   "execution_count": 120,
   "id": "409f8fcc",
   "metadata": {},
   "outputs": [
    {
     "data": {
      "text/html": [
       "<div>\n",
       "<style scoped>\n",
       "    .dataframe tbody tr th:only-of-type {\n",
       "        vertical-align: middle;\n",
       "    }\n",
       "\n",
       "    .dataframe tbody tr th {\n",
       "        vertical-align: top;\n",
       "    }\n",
       "\n",
       "    .dataframe thead th {\n",
       "        text-align: right;\n",
       "    }\n",
       "</style>\n",
       "<table border=\"1\" class=\"dataframe\">\n",
       "  <thead>\n",
       "    <tr style=\"text-align: right;\">\n",
       "      <th></th>\n",
       "      <th>0</th>\n",
       "      <th>1</th>\n",
       "    </tr>\n",
       "  </thead>\n",
       "  <tbody>\n",
       "    <tr>\n",
       "      <th>availableAmount</th>\n",
       "      <td>6000</td>\n",
       "      <td>20000</td>\n",
       "    </tr>\n",
       "    <tr>\n",
       "      <th>totalAmount</th>\n",
       "      <td>6000</td>\n",
       "      <td>20000</td>\n",
       "    </tr>\n",
       "    <tr>\n",
       "      <th>totalTopups</th>\n",
       "      <td>30000</td>\n",
       "      <td>0</td>\n",
       "    </tr>\n",
       "    <tr>\n",
       "      <th>notConfirmedTopups</th>\n",
       "      <td>0</td>\n",
       "      <td>0</td>\n",
       "    </tr>\n",
       "    <tr>\n",
       "      <th>settledEarnings</th>\n",
       "      <td>0</td>\n",
       "      <td>20000</td>\n",
       "    </tr>\n",
       "    <tr>\n",
       "      <th>totalEarnings</th>\n",
       "      <td>0</td>\n",
       "      <td>20000</td>\n",
       "    </tr>\n",
       "    <tr>\n",
       "      <th>totalPayments</th>\n",
       "      <td>-20000</td>\n",
       "      <td>0</td>\n",
       "    </tr>\n",
       "    <tr>\n",
       "      <th>inFlightPayments</th>\n",
       "      <td>0</td>\n",
       "      <td>0</td>\n",
       "    </tr>\n",
       "    <tr>\n",
       "      <th>totalPayouts</th>\n",
       "      <td>0</td>\n",
       "      <td>0</td>\n",
       "    </tr>\n",
       "    <tr>\n",
       "      <th>inProgressPayouts</th>\n",
       "      <td>0</td>\n",
       "      <td>0</td>\n",
       "    </tr>\n",
       "    <tr>\n",
       "      <th>totalPaymentFees</th>\n",
       "      <td>-4000</td>\n",
       "      <td>0</td>\n",
       "    </tr>\n",
       "    <tr>\n",
       "      <th>inFlightPaymentFees</th>\n",
       "      <td>0</td>\n",
       "      <td>0</td>\n",
       "    </tr>\n",
       "    <tr>\n",
       "      <th>totalPayoutOnChainFees</th>\n",
       "      <td>0</td>\n",
       "      <td>0</td>\n",
       "    </tr>\n",
       "    <tr>\n",
       "      <th>inProgressPayoutOnChainFees</th>\n",
       "      <td>0</td>\n",
       "      <td>0</td>\n",
       "    </tr>\n",
       "    <tr>\n",
       "      <th>totalPayoutFees</th>\n",
       "      <td>0</td>\n",
       "      <td>0</td>\n",
       "    </tr>\n",
       "    <tr>\n",
       "      <th>inProgressPayoutFees</th>\n",
       "      <td>0</td>\n",
       "      <td>0</td>\n",
       "    </tr>\n",
       "  </tbody>\n",
       "</table>\n",
       "</div>"
      ],
      "text/plain": [
       "                                 0      1\n",
       "availableAmount               6000  20000\n",
       "totalAmount                   6000  20000\n",
       "totalTopups                  30000      0\n",
       "notConfirmedTopups               0      0\n",
       "settledEarnings                  0  20000\n",
       "totalEarnings                    0  20000\n",
       "totalPayments               -20000      0\n",
       "inFlightPayments                 0      0\n",
       "totalPayouts                     0      0\n",
       "inProgressPayouts                0      0\n",
       "totalPaymentFees             -4000      0\n",
       "inFlightPaymentFees              0      0\n",
       "totalPayoutOnChainFees           0      0\n",
       "inProgressPayoutOnChainFees      0      0\n",
       "totalPayoutFees                  0      0\n",
       "inProgressPayoutFees             0      0"
      ]
     },
     "execution_count": 120,
     "metadata": {},
     "output_type": "execute_result"
    }
   ],
   "source": [
    "get_balances_pd(wallets)"
   ]
  },
  {
   "cell_type": "code",
   "execution_count": 121,
   "id": "27275133",
   "metadata": {},
   "outputs": [
    {
     "ename": "Exception",
     "evalue": "UnknownPayment: Unknown payment",
     "output_type": "error",
     "traceback": [
      "\u001b[0;31m---------------------------------------------------------------------------\u001b[0m",
      "\u001b[0;31mException\u001b[0m                                 Traceback (most recent call last)",
      "Cell \u001b[0;32mIn[121], line 1\u001b[0m\n\u001b[0;32m----> 1\u001b[0m wallet\u001b[38;5;241m.\u001b[39mPaymentFailureReason(\u001b[43mw0\u001b[49m\u001b[38;5;241;43m.\u001b[39;49m\u001b[43mcancelinvoicesendpayment\u001b[49m\u001b[43m(\u001b[49m\u001b[43minv\u001b[49m\u001b[43m[\u001b[49m\u001b[38;5;124;43m'\u001b[39;49m\u001b[38;5;124;43mpaymentHash\u001b[39;49m\u001b[38;5;124;43m'\u001b[39;49m\u001b[43m]\u001b[49m\u001b[43m,\u001b[49m\u001b[43minv2\u001b[49m\u001b[43m[\u001b[49m\u001b[38;5;124;43m'\u001b[39;49m\u001b[38;5;124;43mpaymentRequest\u001b[39;49m\u001b[38;5;124;43m'\u001b[39;49m\u001b[43m]\u001b[49m\u001b[43m,\u001b[49m\u001b[38;5;241;43m100\u001b[39;49m\u001b[43m,\u001b[49m\u001b[38;5;241;43m1000\u001b[39;49m\u001b[43m)\u001b[49m[\u001b[38;5;124m\"\u001b[39m\u001b[38;5;124mfailureReason\u001b[39m\u001b[38;5;124m\"\u001b[39m])\n",
      "File \u001b[0;32m~/work/donttrustverify/gig-wallet/python/wallet.py:257\u001b[0m, in \u001b[0;36mWallet.cancelinvoicesendpayment\u001b[0;34m(self, paymenthash, paymentrequest, timeout, feelimit)\u001b[0m\n\u001b[1;32m    255\u001b[0m response \u001b[38;5;241m=\u001b[39m requests\u001b[38;5;241m.\u001b[39mget(url\u001b[38;5;241m=\u001b[39mapi_url, params\u001b[38;5;241m=\u001b[39m{\u001b[38;5;124m\"\u001b[39m\u001b[38;5;124mauthToken\u001b[39m\u001b[38;5;124m\"\u001b[39m:\u001b[38;5;28mself\u001b[39m\u001b[38;5;241m.\u001b[39m_create_authtoken(), \u001b[38;5;124m\"\u001b[39m\u001b[38;5;124mpaymenthash\u001b[39m\u001b[38;5;124m\"\u001b[39m:paymenthash, \u001b[38;5;124m\"\u001b[39m\u001b[38;5;124mpaymentrequest\u001b[39m\u001b[38;5;124m\"\u001b[39m:paymentrequest, \u001b[38;5;124m\"\u001b[39m\u001b[38;5;124mtimeout\u001b[39m\u001b[38;5;124m\"\u001b[39m:timeout, \u001b[38;5;124m\"\u001b[39m\u001b[38;5;124mfeelimit\u001b[39m\u001b[38;5;124m\"\u001b[39m:feelimit})\n\u001b[1;32m    256\u001b[0m response\u001b[38;5;241m.\u001b[39mraise_for_status()\n\u001b[0;32m--> 257\u001b[0m \u001b[38;5;28;01mreturn\u001b[39;00m \u001b[38;5;28;43mself\u001b[39;49m\u001b[38;5;241;43m.\u001b[39;49m\u001b[43mparse_response\u001b[49m\u001b[43m(\u001b[49m\u001b[43mresponse\u001b[49m\u001b[38;5;241;43m.\u001b[39;49m\u001b[43mjson\u001b[49m\u001b[43m(\u001b[49m\u001b[43m)\u001b[49m\u001b[43m)\u001b[49m\n",
      "File \u001b[0;32m~/work/donttrustverify/gig-wallet/python/wallet.py:306\u001b[0m, in \u001b[0;36mWallet.parse_response\u001b[0;34m(self, response_json)\u001b[0m\n\u001b[1;32m    304\u001b[0m \u001b[38;5;28;01mif\u001b[39;00m error_code \u001b[38;5;241m!=\u001b[39m LNDWalletErrorCode\u001b[38;5;241m.\u001b[39mOk:\n\u001b[1;32m    305\u001b[0m     error_message \u001b[38;5;241m=\u001b[39m response_json\u001b[38;5;241m.\u001b[39mget(\u001b[38;5;124m'\u001b[39m\u001b[38;5;124merrorMessage\u001b[39m\u001b[38;5;124m'\u001b[39m, \u001b[38;5;124m'\u001b[39m\u001b[38;5;124mAn error occurred\u001b[39m\u001b[38;5;124m'\u001b[39m)\n\u001b[0;32m--> 306\u001b[0m     \u001b[38;5;28;01mraise\u001b[39;00m \u001b[38;5;167;01mException\u001b[39;00m(\u001b[38;5;124mf\u001b[39m\u001b[38;5;124m\"\u001b[39m\u001b[38;5;132;01m{\u001b[39;00merror_code\u001b[38;5;241m.\u001b[39mname\u001b[38;5;132;01m}\u001b[39;00m\u001b[38;5;124m: \u001b[39m\u001b[38;5;132;01m{\u001b[39;00merror_message\u001b[38;5;132;01m}\u001b[39;00m\u001b[38;5;124m\"\u001b[39m)\n\u001b[1;32m    307\u001b[0m \u001b[38;5;28;01mreturn\u001b[39;00m response_json\u001b[38;5;241m.\u001b[39mget(\u001b[38;5;124m'\u001b[39m\u001b[38;5;124mvalue\u001b[39m\u001b[38;5;124m'\u001b[39m)\n",
      "\u001b[0;31mException\u001b[0m: UnknownPayment: Unknown payment"
     ]
    }
   ],
   "source": [
    "wallet.PaymentFailureReason(w0.cancelinvoicesendpayment(inv['paymentHash'],inv2['paymentRequest'],100,1000)[\"failureReason\"])"
   ]
  },
  {
   "cell_type": "code",
   "execution_count": 122,
   "id": "c351f314",
   "metadata": {},
   "outputs": [
    {
     "data": {
      "text/html": [
       "<div>\n",
       "<style scoped>\n",
       "    .dataframe tbody tr th:only-of-type {\n",
       "        vertical-align: middle;\n",
       "    }\n",
       "\n",
       "    .dataframe tbody tr th {\n",
       "        vertical-align: top;\n",
       "    }\n",
       "\n",
       "    .dataframe thead th {\n",
       "        text-align: right;\n",
       "    }\n",
       "</style>\n",
       "<table border=\"1\" class=\"dataframe\">\n",
       "  <thead>\n",
       "    <tr style=\"text-align: right;\">\n",
       "      <th></th>\n",
       "      <th>0</th>\n",
       "      <th>1</th>\n",
       "    </tr>\n",
       "  </thead>\n",
       "  <tbody>\n",
       "    <tr>\n",
       "      <th>availableAmount</th>\n",
       "      <td>6000</td>\n",
       "      <td>20000</td>\n",
       "    </tr>\n",
       "    <tr>\n",
       "      <th>totalAmount</th>\n",
       "      <td>6000</td>\n",
       "      <td>20000</td>\n",
       "    </tr>\n",
       "    <tr>\n",
       "      <th>totalTopups</th>\n",
       "      <td>30000</td>\n",
       "      <td>0</td>\n",
       "    </tr>\n",
       "    <tr>\n",
       "      <th>notConfirmedTopups</th>\n",
       "      <td>0</td>\n",
       "      <td>0</td>\n",
       "    </tr>\n",
       "    <tr>\n",
       "      <th>settledEarnings</th>\n",
       "      <td>0</td>\n",
       "      <td>20000</td>\n",
       "    </tr>\n",
       "    <tr>\n",
       "      <th>totalEarnings</th>\n",
       "      <td>0</td>\n",
       "      <td>20000</td>\n",
       "    </tr>\n",
       "    <tr>\n",
       "      <th>totalPayments</th>\n",
       "      <td>-20000</td>\n",
       "      <td>0</td>\n",
       "    </tr>\n",
       "    <tr>\n",
       "      <th>inFlightPayments</th>\n",
       "      <td>0</td>\n",
       "      <td>0</td>\n",
       "    </tr>\n",
       "    <tr>\n",
       "      <th>totalPayouts</th>\n",
       "      <td>0</td>\n",
       "      <td>0</td>\n",
       "    </tr>\n",
       "    <tr>\n",
       "      <th>inProgressPayouts</th>\n",
       "      <td>0</td>\n",
       "      <td>0</td>\n",
       "    </tr>\n",
       "    <tr>\n",
       "      <th>totalPaymentFees</th>\n",
       "      <td>-4000</td>\n",
       "      <td>0</td>\n",
       "    </tr>\n",
       "    <tr>\n",
       "      <th>inFlightPaymentFees</th>\n",
       "      <td>0</td>\n",
       "      <td>0</td>\n",
       "    </tr>\n",
       "    <tr>\n",
       "      <th>totalPayoutOnChainFees</th>\n",
       "      <td>0</td>\n",
       "      <td>0</td>\n",
       "    </tr>\n",
       "    <tr>\n",
       "      <th>inProgressPayoutOnChainFees</th>\n",
       "      <td>0</td>\n",
       "      <td>0</td>\n",
       "    </tr>\n",
       "    <tr>\n",
       "      <th>totalPayoutFees</th>\n",
       "      <td>0</td>\n",
       "      <td>0</td>\n",
       "    </tr>\n",
       "    <tr>\n",
       "      <th>inProgressPayoutFees</th>\n",
       "      <td>0</td>\n",
       "      <td>0</td>\n",
       "    </tr>\n",
       "  </tbody>\n",
       "</table>\n",
       "</div>"
      ],
      "text/plain": [
       "                                 0      1\n",
       "availableAmount               6000  20000\n",
       "totalAmount                   6000  20000\n",
       "totalTopups                  30000      0\n",
       "notConfirmedTopups               0      0\n",
       "settledEarnings                  0  20000\n",
       "totalEarnings                    0  20000\n",
       "totalPayments               -20000      0\n",
       "inFlightPayments                 0      0\n",
       "totalPayouts                     0      0\n",
       "inProgressPayouts                0      0\n",
       "totalPaymentFees             -4000      0\n",
       "inFlightPaymentFees              0      0\n",
       "totalPayoutOnChainFees           0      0\n",
       "inProgressPayoutOnChainFees      0      0\n",
       "totalPayoutFees                  0      0\n",
       "inProgressPayoutFees             0      0"
      ]
     },
     "execution_count": 122,
     "metadata": {},
     "output_type": "execute_result"
    }
   ],
   "source": [
    "get_balances_pd(wallets)"
   ]
  },
  {
   "cell_type": "code",
   "execution_count": 16,
   "id": "2ed6f285",
   "metadata": {},
   "outputs": [
    {
     "data": {
      "text/plain": [
       "[{'paymentHash': 'e0980f13234255fd667b8faa3abd036dc228b20b48c3322b91daaeea78dc6d61',\n",
       "  'status': 1,\n",
       "  'failureReason': 0,\n",
       "  'satoshis': 5000,\n",
       "  'feeMsat': 1000000}]"
      ]
     },
     "execution_count": 16,
     "metadata": {},
     "output_type": "execute_result"
    }
   ],
   "source": [
    "w0.listpayments()"
   ]
  },
  {
   "cell_type": "code",
   "execution_count": 19,
   "id": "8dfae3f1",
   "metadata": {},
   "outputs": [
    {
     "data": {
      "text/plain": [
       "[{'paymentRequest': 'lnbc100u1pnjcn6npp5rfplvfe38lee7c0kahzlu565cffataw6m9lwyswwvzau0cs2zmksdq8w3jhxaqcqzzsxqp5sp5cl404judqehf3s7g443yv5fghvqkt506cfmxhga2dumkr6nls42q9p4gqqqqqqqqqqqqqqqqqqqqqqqqqqqqqqqqqqqqqqqqqqqqqqpqysgqq2udjq7ucc0gvjfftk088r8gnrpjmwl5kngdrw75k6t2pdfxjarzpgzhgft4jhxf7xnjc5lwkjv9lzvu3qj5jrzkkkdvq3m08z05y2sp7mkuwa',\n",
       "  'state': 2,\n",
       "  'isHodl': True,\n",
       "  'settleTime': '1970-01-01T00:00:00Z',\n",
       "  'paymentHash': '1a43f627313ff39f61f6edc5fe5354c253d5f5dad97ee241ce60bbc7e20a16ed',\n",
       "  'satoshis': 10000,\n",
       "  'paymentAddr': 'c7eafacb8d066e98c3c8ad62465128bb0165d1fac2766ba3aa6f3761ea7f8554',\n",
       "  'memo': 'test',\n",
       "  'creationTime': '2024-11-07T05:25:39Z',\n",
       "  'expiryTime': '2024-11-07T05:25:59Z'},\n",
       " {'paymentRequest': 'lnbc100u1pnjcxnxpp5xhxte4gxsk356ncx9ne5fs06c4ttlek09pmwvsdczth828zhamqqdq8w3jhxaqcqzzsxqp5sp5fm858arfj0u0pnu7het5ekua3g8ads8qx47r5836ah7ell7wpkqs9p4gqqqqqqqqqqqqqqqqqqqqqqqqqqqqqqqqqqqqqqqqqqqqqqpqysgq3zyk5mac7vp7fa3jf9w0d0fa9ltymg9kg4njqdc25kjag9cak0ls2nzdh3yeh9uc55tmfrpkze8pgj7s3frlyc47vlgnm5hmz207w5sq7g56kg',\n",
       "  'state': 2,\n",
       "  'isHodl': True,\n",
       "  'settleTime': '1970-01-01T00:00:00Z',\n",
       "  'paymentHash': '35ccbcd50685a34d4f062cf344c1fac556bfe6cf2876e641b812ee751c57eec0',\n",
       "  'satoshis': 10000,\n",
       "  'paymentAddr': '4ecf43f46993f8f0cf9ebe574cdb9d8a0fd6c0e0357c3a1e3aedfd9fffce0d81',\n",
       "  'memo': 'test',\n",
       "  'creationTime': '2024-11-07T01:39:50Z',\n",
       "  'expiryTime': '2024-11-07T01:40:10Z'},\n",
       " {'paymentRequest': 'lnbc37870n1pnjnce3pp5fc0v306eepldedlhy7dlhaadjukja3y9vxn0csxln9u5tdjy96wsdqqcqzzsxqzlgsp56sap4fl9sltee52sv8hnddkrcdc70nd5jcgmphpqv6c6zur8de8s9p4gqqqqqqqqqqqqqqqqqqqqqqqqqqqqqqqqqqqqqqqqqqqqqqpqysgq4vxp80x3eppmt6usc20956lxp2hzzxnxx82u8y083n30kmlznnqxwulx74stwgt7ss9r6a3c7dps0g5urcf86hkkjp3p9r2excm3e5cps5e8sk',\n",
       "  'state': 1,\n",
       "  'isHodl': True,\n",
       "  'settleTime': '1970-01-01T00:00:00Z',\n",
       "  'paymentHash': '4e1ec8bf59c87edcb7f7279bfbf7ad972d2ec48561a6fc40df997945b6442e9d',\n",
       "  'satoshis': 3787,\n",
       "  'paymentAddr': 'd43a1aa7e587d79cd15061ef36b6c3c371e7cdb49611b0dc2066b1a170676e4f',\n",
       "  'memo': '',\n",
       "  'creationTime': '2024-11-05T09:19:45Z',\n",
       "  'expiryTime': '2024-11-05T09:36:25Z'},\n",
       " {'paymentRequest': 'lnbc100u1pnjcsj8pp52gh2c263pvavk4npeelqvmw4kvmx5vq0tuzjfh3amh3dd74ve46qdq8w3jhxaqcqzzsxqp5sp5pezl6vffxe0gxrsquqz0hl35qy385rtma9y4v5889jk8mudckhcs9p4gqqqqqqqqqqqqqqqqqqqqqqqqqqqqqqqqqqqqqqqqqqqqqqpqysgq7q7zul5u2ztk3svgaq5vt5kgr237jl4t5z58mpzl40rsc7r5yatkggfmjcj9jz4ka6yufsuq8zdk0elzsvumw9jspk94kvyjt0z4eysqqt8wss',\n",
       "  'state': 2,\n",
       "  'isHodl': True,\n",
       "  'settleTime': '1970-01-01T00:00:00Z',\n",
       "  'paymentHash': '522eac2b510b3acb5661ce7e066dd5b3366a300f5f0524de3ddde2d6faaccd74',\n",
       "  'satoshis': 10000,\n",
       "  'paymentAddr': '0e45fd3129365e830e00e004fbfe3401227a0d7be9495650e72cac7df1b8b5f1',\n",
       "  'memo': 'test',\n",
       "  'creationTime': '2024-11-07T04:29:59Z',\n",
       "  'expiryTime': '2024-11-07T04:30:19Z'},\n",
       " {'paymentRequest': 'lnbc63980n1pn0kn95pp525ze7q352scfw5kpxtpgua574rm3xddpxn8kr42cn6e89vh02ymsdqqcqzzsxqzlgsp5al33n2n05h79qj3v32e06zucjrnzgz7qt5c0fkw3stzv9ytgmv3q9p4gqqqqqqqqqqqqqqqqqqqqqqqqqqqqqqqqqqqqqqqqqqqqqqpqysgq5xev68thwchfmskyxjneavcwpnet7zrzafvx22mc8etr8qa2tpvhzgcswc02r2hzx8tfcash3yx4sf94fyqu3lr2vrkwtyywg2tgzncpnygnmc',\n",
       "  'state': 1,\n",
       "  'isHodl': True,\n",
       "  'settleTime': '1970-01-01T00:00:00Z',\n",
       "  'paymentHash': '55059f023454309752c132c28e769ea8f71335a134cf61d5589eb272b2ef5137',\n",
       "  'satoshis': 6398,\n",
       "  'paymentAddr': 'efe319aa6fa5fc504a2c8ab2fd0b9890e6240bc05d30f4d9d182c4c29168db22',\n",
       "  'memo': '',\n",
       "  'creationTime': '2024-10-01T01:13:24Z',\n",
       "  'expiryTime': '2024-10-01T01:30:04Z'},\n",
       " {'paymentRequest': 'lnbc7530n1pn0k7m9pp5drsuccehq25y53d0mnlxjagtusn7dh5a5290wuawqs4736qxh95sdqqcqzzsxqzlgsp5qa0w92utj3xmppynpxfmx9cf7sfgq0l5mgreyzvcgs0cxuqeyfvs9p4gqqqqqqqqqqqqqqqqqqqqqqqqqqqqqqqqqqqqqqqqqqqqqqpqysgq809gkcw8e0pxlujlvgdef0dk3l0u73p8gygavxxjwkenxklxz97jkuw37qtjvf48dzu9xk3lph089v9uvquc9qcxhgk20tcgnxc287spj9jp64',\n",
       "  'state': 1,\n",
       "  'isHodl': True,\n",
       "  'settleTime': '1970-01-01T00:00:00Z',\n",
       "  'paymentHash': '68e1cc633702a84a45afdcfe69750be427e6de9da28af773ae042be8e806b969',\n",
       "  'satoshis': 753,\n",
       "  'paymentAddr': '075ee2ab8b944db084930993b31709f412803ff4da07920998441f8370192259',\n",
       "  'memo': '',\n",
       "  'creationTime': '2024-10-01T04:32:37Z',\n",
       "  'expiryTime': '2024-10-01T04:49:17Z'},\n",
       " {'paymentRequest': 'lnbc50u1pnjc6axpp5wg4ct99aerwkmuzac4ynqyx3sesmql0z0tgf9483gqszkglldgesdq8w3jhxaqcqzzsxqp5sp548gyyhxmz7juk7vdnc7x9aram86s2u6uj0q9htnaznw6g37x878q9p4gqqqqqqqqqqqqqqqqqqqqqqqqqqqqqqqqqqqqqqqqqqqqqqpqysgqup4ujplq94238rsujvtm70r6668de0474fpxtr9tjsj4h9gt69nyc8vmzyyfrtve7gkexpaqva5e88g32j656d0kd4279zvm4ad8axcpqvwuq0',\n",
       "  'state': 3,\n",
       "  'isHodl': True,\n",
       "  'settleTime': '1970-01-01T00:00:00Z',\n",
       "  'paymentHash': '722b8594bdc8dd6df05dc5493010d18661b07de27ad092d4f140202b23ff6a33',\n",
       "  'satoshis': 5000,\n",
       "  'paymentAddr': 'a9d0425cdb17a5cb798d9e3c62f47dd9f505735c93c05bae7d14dda447c63f8e',\n",
       "  'memo': 'test',\n",
       "  'creationTime': '2024-11-07T07:26:30Z',\n",
       "  'expiryTime': '2024-11-07T07:26:50Z'},\n",
       " {'paymentRequest': 'lnbc6218370n1pn0kjkhpp5nek2l8sertljpn0yyv6l5a4ajzz6rf7u2gv2l8y5c8yztv47u6ksdqqcqzzsxqzlgsp5f2t2sd5way00jx0qasmnk23assyg6txjuhg4nvh2kydf2ujxxvus9p4gqqqqqqqqqqqqqqqqqqqqqqqqqqqqqqqqqqqqqqqqqqqqqqpqysgq46d8cqgxumhfk466s88kk5sjtffm2s8cgjrpvwt5y2wm4fy5va7hsxf6lchuu6vjq9zppqvrk6wx8v53g2wpq5ykf2ujnyvhhscf75gphz2gc9',\n",
       "  'state': 2,\n",
       "  'isHodl': True,\n",
       "  'settleTime': '1970-01-01T00:00:00Z',\n",
       "  'paymentHash': '9e6caf9e191aff20cde42335fa76bd9085a1a7dc5218af9c94c1c825b2bee6ad',\n",
       "  'satoshis': 621837,\n",
       "  'paymentAddr': '4a96a8368ee91ef919e0ec373b2a3d84088d2cd2e5d159b2eab11a9572463339',\n",
       "  'memo': '',\n",
       "  'creationTime': '2024-10-01T01:05:27Z',\n",
       "  'expiryTime': '2024-10-01T01:22:07Z'},\n",
       " {'paymentRequest': 'lnbc100u1pnjcz3vpp556a8qz0zj457fnl2sgjufn9494xux6snfkaqtg7z6ah3e2xmgx2qdq8w3jhxaqcqzzsxqp5sp58v2pcz4nsfveurpf5rp89n69qyrddmfuctm6j3ty0xgmjca4wqqq9p4gqqqqqqqqqqqqqqqqqqqqqqqqqqqqqqqqqqqqqqqqqqqqqqpqysgqgnty6ge9zfgxd4ya5qfl9xsqeh6r5t2gp3nqsklhhhpmm4wj7yypyg5c6gv0hkk5vh8u685myskja07zl89rz2aey0pmu97jtcqgunqqeqtdet',\n",
       "  'state': 2,\n",
       "  'isHodl': True,\n",
       "  'settleTime': '1970-01-01T00:00:00Z',\n",
       "  'paymentHash': 'a6ba7009e29569e4cfea8225c4ccb52d4dc36a134dba05a3c2d76f1ca8db4194',\n",
       "  'satoshis': 10000,\n",
       "  'paymentAddr': '3b141c0ab382599e0c29a0c272cf450106d6ed3cc2f7a945647991b963b57000',\n",
       "  'memo': 'test',\n",
       "  'creationTime': '2024-11-07T00:30:36Z',\n",
       "  'expiryTime': '2024-11-07T00:30:56Z'},\n",
       " {'paymentRequest': 'lnbc100u1pnjcsjcpp55lqvacct7xss9s3kwm5wg54eacs8kej0vsrmrvl8tj90v3mxs6hsdq8w3jhxaqcqzzsxqp5sp5gmm6tmzg7djejxtmhq4xdnmcwnn0cmqjt6xv88mgjaxsfmhuvzwq9p4gqqqqqqqqqqqqqqqqqqqqqqqqqqqqqqqqqqqqqqqqqqqqqqpqysgqs4vkh54axgakmduf0ks0jdjmek798n8e7y9yxvu3rvscxefa8zc58zmenhfy9hsw9menwfxrcgdy2yky7qgy990nqyknwdzk873yl0sqv4fkfu',\n",
       "  'state': 2,\n",
       "  'isHodl': True,\n",
       "  'settleTime': '1970-01-01T00:00:00Z',\n",
       "  'paymentHash': 'a7c0cee30bf1a102c23676e8e452b9ee207b664f6407b1b3e75c8af6476686af',\n",
       "  'satoshis': 10000,\n",
       "  'paymentAddr': '46f7a5ec48f36599197bb82a66cf7874e6fc6c125e8cc39f68974d04eefc609c',\n",
       "  'memo': 'test',\n",
       "  'creationTime': '2024-11-07T04:30:16Z',\n",
       "  'expiryTime': '2024-11-07T04:30:36Z'},\n",
       " {'paymentRequest': 'lnbc100u1pnjcskepp5klmlldla7nt64h3gnlpmncty5vdcf8p4smm76dmzdzwsl3qnqjgqdq8w3jhxaqcqzzsxqp5sp53jkqkkcwxy6g49rdfz7mumuqg63rrqkkde8l60stht3t2gs7naus9p4gqqqqqqqqqqqqqqqqqqqqqqqqqqqqqqqqqqqqqqqqqqqqqqpqysgq5fqyg27sqryljh74auau0ppstm6s4fkq5qyghcsccyw482crshr4x9gdmlwhx95npw4umx6clstyds4ma60qx2x3nmhnwjcwye9uveqpd2emkf',\n",
       "  'state': 2,\n",
       "  'isHodl': True,\n",
       "  'settleTime': '1970-01-01T00:00:00Z',\n",
       "  'paymentHash': 'b7f7ffb7fdf4d7aade289fc3b9e164a31b849c3586f7ed3762689d0fc4130490',\n",
       "  'satoshis': 10000,\n",
       "  'paymentAddr': '8cac0b5b0e31348a946d48bdbe6f8046a23182d66e4ffd3e0bbae2b5221e9f79',\n",
       "  'memo': 'test',\n",
       "  'creationTime': '2024-11-07T04:32:25Z',\n",
       "  'expiryTime': '2024-11-07T04:32:45Z'},\n",
       " {'paymentRequest': 'lnbc63980n1pn0km92pp5e0zvx45je04v3hcegjz9zy3dt0mzsnpg4g7jclyde0uezu6raknsdqqcqzzsxqzlgsp5utrcl6wpxcpjgvq7ql2ql6ss72hxcy9cx8dd2cyh2d9h5v4wywhq9p4gqqqqqqqqqqqqqqqqqqqqqqqqqqqqqqqqqqqqqqqqqqqqqqpqysgqekud0euvuu5tnnjcsdxglm39vqvj3dk56lfxpgcedvh2jlar4q68ag767rsar2m7d8dlj46zedn2tfg663wl2cxvq0etfyjx7fv53xcpea0lvc',\n",
       "  'state': 1,\n",
       "  'isHodl': True,\n",
       "  'settleTime': '1970-01-01T00:00:00Z',\n",
       "  'paymentHash': 'cbc4c35692cbeac8df19448451122d5bf6284c28aa3d2c7c8dcbf9917343eda7',\n",
       "  'satoshis': 6398,\n",
       "  'paymentAddr': 'e2c78fe9c1360324301e07d40fea10f2ae6c10b831dad56097534b7a32ae23ae',\n",
       "  'memo': '',\n",
       "  'creationTime': '2024-10-01T03:29:46Z',\n",
       "  'expiryTime': '2024-10-01T03:46:26Z'},\n",
       " {'paymentRequest': 'lnbc45610n1pn0k67vpp5mf42fdpj75p0wv4yda7d789c0uv57hju49qhy06jt4qtz8vlhmvqdqqcqzzsxqzlgsp5l0k7gve3wntamy7er8vnfl253quf403cfaq75kgeclvcvn0rht5s9p4gqqqqqqqqqqqqqqqqqqqqqqqqqqqqqqqqqqqqqqqqqqqqqqpqysgqw36zpuf2ssw7ng4xyjxhu9n8wvarlktgvaqgpagnplru8jus0guxgefks823yllk5jns3n235hk80cznvccpq732st7nx2jrrljsrecqlz36nc',\n",
       "  'state': 1,\n",
       "  'isHodl': True,\n",
       "  'settleTime': '1970-01-01T00:00:00Z',\n",
       "  'paymentHash': 'da6aa4b432f502f732a46f7cdf1cb87f194f5e5ca941723f525d40b11d9fbed8',\n",
       "  'satoshis': 4561,\n",
       "  'paymentAddr': 'fbede4333174d7dd93d919d934fd5488389abe384f41ea5919c7d9864de3bae9',\n",
       "  'memo': '',\n",
       "  'creationTime': '2024-10-01T03:26:04Z',\n",
       "  'expiryTime': '2024-10-01T03:42:44Z'}]"
      ]
     },
     "execution_count": 19,
     "metadata": {},
     "output_type": "execute_result"
    }
   ],
   "source": [
    "w0.listinvoices()"
   ]
  },
  {
   "cell_type": "code",
   "execution_count": 47,
   "id": "71c7fc87",
   "metadata": {},
   "outputs": [
    {
     "ename": "Exception",
     "evalue": "OperationFailed: Status(StatusCode=\"NotFound\", Detail=\"unable to locate invoice\")",
     "output_type": "error",
     "traceback": [
      "\u001b[0;31m---------------------------------------------------------------------------\u001b[0m",
      "\u001b[0;31mException\u001b[0m                                 Traceback (most recent call last)",
      "Cell \u001b[0;32mIn[47], line 1\u001b[0m\n\u001b[0;32m----> 1\u001b[0m \u001b[43mw0\u001b[49m\u001b[38;5;241;43m.\u001b[39;49m\u001b[43msettleinvoice\u001b[49m\u001b[43m(\u001b[49m\u001b[43mpreim\u001b[49m\u001b[38;5;241;43m.\u001b[39;49m\u001b[43mhex\u001b[49m\u001b[43m(\u001b[49m\u001b[43m)\u001b[49m\u001b[43m)\u001b[49m\n",
      "File \u001b[0;32m~/work/donttrustverify/gig-wallet/python/wallet.py:263\u001b[0m, in \u001b[0;36msettleinvoice\u001b[0;34m(self, preimage)\u001b[0m\n\u001b[1;32m    261\u001b[0m     response = requests.get(url=api_url, params={\"authToken\":self._create_authtoken(), \"preimage\":preimage})\n\u001b[1;32m    262\u001b[0m     response.raise_for_status()\n\u001b[0;32m--> 263\u001b[0m     return self.parse_response(response.json())\n\u001b[1;32m    264\u001b[0m \n\u001b[1;32m    265\u001b[0m def cancelinvoice(self, paymenthash):\n",
      "File \u001b[0;32m~/work/donttrustverify/gig-wallet/python/wallet.py:300\u001b[0m, in \u001b[0;36mparse_response\u001b[0;34m(self, response_json)\u001b[0m\n\u001b[1;32m    298\u001b[0m if error_code != LNDWalletErrorCode.Ok:\n\u001b[1;32m    299\u001b[0m     error_message = response_json.get('errorMessage', 'An error occurred')\n\u001b[0;32m--> 300\u001b[0m     raise Exception(f\"{error_code.name}: {error_message}\")\n\u001b[1;32m    301\u001b[0m return response_json.get('value')\n",
      "\u001b[0;31mException\u001b[0m: OperationFailed: Status(StatusCode=\"NotFound\", Detail=\"unable to locate invoice\")"
     ]
    }
   ],
   "source": [
    "w0.settleinvoice(preim.hex())"
   ]
  },
  {
   "cell_type": "code",
   "execution_count": 21,
   "id": "f2d851f3",
   "metadata": {},
   "outputs": [
    {
     "ename": "Exception",
     "evalue": "UnknownPayment: Unknown payment",
     "output_type": "error",
     "traceback": [
      "\u001b[0;31m---------------------------------------------------------------------------\u001b[0m",
      "\u001b[0;31mException\u001b[0m                                 Traceback (most recent call last)",
      "Cell \u001b[0;32mIn[21], line 1\u001b[0m\n\u001b[0;32m----> 1\u001b[0m \u001b[43mw0\u001b[49m\u001b[38;5;241;43m.\u001b[39;49m\u001b[43mgetpayment\u001b[49m\u001b[43m(\u001b[49m\u001b[43mpm\u001b[49m\u001b[43m[\u001b[49m\u001b[38;5;124;43m\"\u001b[39;49m\u001b[38;5;124;43mpaymentHash\u001b[39;49m\u001b[38;5;124;43m\"\u001b[39;49m\u001b[43m]\u001b[49m\u001b[43m)\u001b[49m\n",
      "File \u001b[0;32m~/work/donttrustverify/gig-wallet/python/wallet.py:293\u001b[0m, in \u001b[0;36mWallet.getpayment\u001b[0;34m(self, paymenthash)\u001b[0m\n\u001b[1;32m    291\u001b[0m response \u001b[38;5;241m=\u001b[39m requests\u001b[38;5;241m.\u001b[39mget(url\u001b[38;5;241m=\u001b[39mapi_url, params\u001b[38;5;241m=\u001b[39m{\u001b[38;5;124m\"\u001b[39m\u001b[38;5;124mauthToken\u001b[39m\u001b[38;5;124m\"\u001b[39m:\u001b[38;5;28mself\u001b[39m\u001b[38;5;241m.\u001b[39m_create_authtoken(), \u001b[38;5;124m\"\u001b[39m\u001b[38;5;124mpaymenthash\u001b[39m\u001b[38;5;124m\"\u001b[39m:paymenthash})\n\u001b[1;32m    292\u001b[0m response\u001b[38;5;241m.\u001b[39mraise_for_status()\n\u001b[0;32m--> 293\u001b[0m \u001b[38;5;28;01mreturn\u001b[39;00m \u001b[38;5;28;43mself\u001b[39;49m\u001b[38;5;241;43m.\u001b[39;49m\u001b[43mparse_response\u001b[49m\u001b[43m(\u001b[49m\u001b[43mresponse\u001b[49m\u001b[38;5;241;43m.\u001b[39;49m\u001b[43mjson\u001b[49m\u001b[43m(\u001b[49m\u001b[43m)\u001b[49m\u001b[43m)\u001b[49m\n",
      "File \u001b[0;32m~/work/donttrustverify/gig-wallet/python/wallet.py:300\u001b[0m, in \u001b[0;36mWallet.parse_response\u001b[0;34m(self, response_json)\u001b[0m\n\u001b[1;32m    298\u001b[0m \u001b[38;5;28;01mif\u001b[39;00m error_code \u001b[38;5;241m!=\u001b[39m LNDWalletErrorCode\u001b[38;5;241m.\u001b[39mOk:\n\u001b[1;32m    299\u001b[0m     error_message \u001b[38;5;241m=\u001b[39m response_json\u001b[38;5;241m.\u001b[39mget(\u001b[38;5;124m'\u001b[39m\u001b[38;5;124merrorMessage\u001b[39m\u001b[38;5;124m'\u001b[39m, \u001b[38;5;124m'\u001b[39m\u001b[38;5;124mAn error occurred\u001b[39m\u001b[38;5;124m'\u001b[39m)\n\u001b[0;32m--> 300\u001b[0m     \u001b[38;5;28;01mraise\u001b[39;00m \u001b[38;5;167;01mException\u001b[39;00m(\u001b[38;5;124mf\u001b[39m\u001b[38;5;124m\"\u001b[39m\u001b[38;5;132;01m{\u001b[39;00merror_code\u001b[38;5;241m.\u001b[39mname\u001b[38;5;132;01m}\u001b[39;00m\u001b[38;5;124m: \u001b[39m\u001b[38;5;132;01m{\u001b[39;00merror_message\u001b[38;5;132;01m}\u001b[39;00m\u001b[38;5;124m\"\u001b[39m)\n\u001b[1;32m    301\u001b[0m \u001b[38;5;28;01mreturn\u001b[39;00m response_json\u001b[38;5;241m.\u001b[39mget(\u001b[38;5;124m'\u001b[39m\u001b[38;5;124mvalue\u001b[39m\u001b[38;5;124m'\u001b[39m)\n",
      "\u001b[0;31mException\u001b[0m: UnknownPayment: Unknown payment"
     ]
    }
   ],
   "source": [
    "w0.getpayment(pm[\"paymentHash\"])"
   ]
  },
  {
   "cell_type": "code",
   "execution_count": 32,
   "id": "525aeaa9",
   "metadata": {},
   "outputs": [
    {
     "data": {
      "text/html": [
       "<div>\n",
       "<style scoped>\n",
       "    .dataframe tbody tr th:only-of-type {\n",
       "        vertical-align: middle;\n",
       "    }\n",
       "\n",
       "    .dataframe tbody tr th {\n",
       "        vertical-align: top;\n",
       "    }\n",
       "\n",
       "    .dataframe thead th {\n",
       "        text-align: right;\n",
       "    }\n",
       "</style>\n",
       "<table border=\"1\" class=\"dataframe\">\n",
       "  <thead>\n",
       "    <tr style=\"text-align: right;\">\n",
       "      <th></th>\n",
       "      <th>0</th>\n",
       "      <th>1</th>\n",
       "    </tr>\n",
       "  </thead>\n",
       "  <tbody>\n",
       "    <tr>\n",
       "      <th>availableAmount</th>\n",
       "      <td>7329</td>\n",
       "      <td>23241</td>\n",
       "    </tr>\n",
       "    <tr>\n",
       "      <th>totalAmount</th>\n",
       "      <td>17329</td>\n",
       "      <td>23241</td>\n",
       "    </tr>\n",
       "    <tr>\n",
       "      <th>totalTopups</th>\n",
       "      <td>0</td>\n",
       "      <td>72673</td>\n",
       "    </tr>\n",
       "    <tr>\n",
       "      <th>notConfirmedTopups</th>\n",
       "      <td>0</td>\n",
       "      <td>0</td>\n",
       "    </tr>\n",
       "    <tr>\n",
       "      <th>settledEarnings</th>\n",
       "      <td>21897</td>\n",
       "      <td>568</td>\n",
       "    </tr>\n",
       "    <tr>\n",
       "      <th>totalEarnings</th>\n",
       "      <td>31897</td>\n",
       "      <td>568</td>\n",
       "    </tr>\n",
       "    <tr>\n",
       "      <th>totalPayments</th>\n",
       "      <td>-11568</td>\n",
       "      <td>-37661</td>\n",
       "    </tr>\n",
       "    <tr>\n",
       "      <th>inFlightPayments</th>\n",
       "      <td>-10000</td>\n",
       "      <td>0</td>\n",
       "    </tr>\n",
       "    <tr>\n",
       "      <th>totalPayouts</th>\n",
       "      <td>0</td>\n",
       "      <td>-1339</td>\n",
       "    </tr>\n",
       "    <tr>\n",
       "      <th>inProgressPayouts</th>\n",
       "      <td>0</td>\n",
       "      <td>-1339</td>\n",
       "    </tr>\n",
       "    <tr>\n",
       "      <th>totalPaymentFees</th>\n",
       "      <td>-3000</td>\n",
       "      <td>-11000</td>\n",
       "    </tr>\n",
       "    <tr>\n",
       "      <th>inFlightPaymentFees</th>\n",
       "      <td>-1000</td>\n",
       "      <td>0</td>\n",
       "    </tr>\n",
       "    <tr>\n",
       "      <th>totalPayoutOnChainFees</th>\n",
       "      <td>0</td>\n",
       "      <td>0</td>\n",
       "    </tr>\n",
       "    <tr>\n",
       "      <th>inProgressPayoutOnChainFees</th>\n",
       "      <td>0</td>\n",
       "      <td>0</td>\n",
       "    </tr>\n",
       "    <tr>\n",
       "      <th>totalPayoutFees</th>\n",
       "      <td>0</td>\n",
       "      <td>0</td>\n",
       "    </tr>\n",
       "    <tr>\n",
       "      <th>inProgressPayoutFees</th>\n",
       "      <td>0</td>\n",
       "      <td>0</td>\n",
       "    </tr>\n",
       "  </tbody>\n",
       "</table>\n",
       "</div>"
      ],
      "text/plain": [
       "                                 0      1\n",
       "availableAmount               7329  23241\n",
       "totalAmount                  17329  23241\n",
       "totalTopups                      0  72673\n",
       "notConfirmedTopups               0      0\n",
       "settledEarnings              21897    568\n",
       "totalEarnings                31897    568\n",
       "totalPayments               -11568 -37661\n",
       "inFlightPayments            -10000      0\n",
       "totalPayouts                     0  -1339\n",
       "inProgressPayouts                0  -1339\n",
       "totalPaymentFees             -3000 -11000\n",
       "inFlightPaymentFees          -1000      0\n",
       "totalPayoutOnChainFees           0      0\n",
       "inProgressPayoutOnChainFees      0      0\n",
       "totalPayoutFees                  0      0\n",
       "inProgressPayoutFees             0      0"
      ]
     },
     "execution_count": 32,
     "metadata": {},
     "output_type": "execute_result"
    }
   ],
   "source": [
    "get_balances_pd(wallets)"
   ]
  },
  {
   "cell_type": "code",
   "execution_count": null,
   "id": "1b604e99",
   "metadata": {},
   "outputs": [],
   "source": [
    "inv = w1.addinvoice(10000,\"test\",10)[\"value\"]a"
   ]
  },
  {
   "cell_type": "code",
   "execution_count": 41,
   "id": "d9e4bdb9",
   "metadata": {},
   "outputs": [],
   "source": [
    "payr=w1.sendpayment(inv[\"paymentRequest\"],100,1000)"
   ]
  },
  {
   "cell_type": "code",
   "execution_count": null,
   "id": "fc87b342",
   "metadata": {},
   "outputs": [],
   "source": [
    "w1.listinvoices()"
   ]
  },
  {
   "cell_type": "code",
   "execution_count": null,
   "id": "209c49a0",
   "metadata": {},
   "outputs": [],
   "source": [
    "w1.getinvoice(\"a70199e12e89d4bae01dd85b06dee673e89bf0968260e46b15b17ce90bbc3b83\")"
   ]
  },
  {
   "cell_type": "code",
   "execution_count": null,
   "id": "85bc60e8",
   "metadata": {},
   "outputs": [],
   "source": []
  },
  {
   "cell_type": "code",
   "execution_count": null,
   "id": "fb6c6c13",
   "metadata": {},
   "outputs": [],
   "source": []
  },
  {
   "cell_type": "code",
   "execution_count": null,
   "id": "df8ca2eb",
   "metadata": {},
   "outputs": [],
   "source": []
  },
  {
   "cell_type": "code",
   "execution_count": null,
   "id": "c4bc7faa",
   "metadata": {},
   "outputs": [],
   "source": [
    "w1.settleinvoice(preim.hex())"
   ]
  },
  {
   "cell_type": "code",
   "execution_count": null,
   "id": "58ea2361",
   "metadata": {},
   "outputs": [],
   "source": [
    "w1.listinvoices()"
   ]
  }
 ],
 "metadata": {
  "kernelspec": {
   "display_name": "base",
   "language": "python",
   "name": "python3"
  },
  "language_info": {
   "codemirror_mode": {
    "name": "ipython",
    "version": 3
   },
   "file_extension": ".py",
   "mimetype": "text/x-python",
   "name": "python",
   "nbconvert_exporter": "python",
   "pygments_lexer": "ipython3",
   "version": "3.9.7"
  }
 },
 "nbformat": 4,
 "nbformat_minor": 5
}
