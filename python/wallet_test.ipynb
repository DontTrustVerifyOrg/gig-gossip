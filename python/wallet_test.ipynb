{
 "cells": [
  {
   "cell_type": "code",
   "execution_count": 20,
   "id": "1bf28b54",
   "metadata": {},
   "outputs": [],
   "source": [
    "import wallet"
   ]
  },
  {
   "cell_type": "code",
   "execution_count": 21,
   "id": "680fc08c",
   "metadata": {},
   "outputs": [],
   "source": [
    "privkey = \"3a2d5e66bcac006201687f5cfab18c0d4adbbf5809fd9f79ed79916749351a23\"\n",
    "pubkey = \"a97c15464ee25ca4d1f0908f5aed1f10e41c3c117822f1f3f6e30ad038f869e0\""
   ]
  },
  {
   "cell_type": "code",
   "execution_count": 22,
   "id": "6e534f5f",
   "metadata": {},
   "outputs": [],
   "source": [
    "base_url = \"http://localhost:7101\""
   ]
  },
  {
   "cell_type": "code",
   "execution_count": 23,
   "id": "87e032a5",
   "metadata": {},
   "outputs": [],
   "source": [
    "w1 = wallet.Wallet(base_url, privkey, pubkey)"
   ]
  },
  {
   "cell_type": "code",
   "execution_count": 24,
   "id": "b0cd1410",
   "metadata": {},
   "outputs": [
    {
     "data": {
      "text/plain": [
       "{'availableAmount': 4000,\n",
       " 'incomingNotConfirmed': 0,\n",
       " 'incomingAcceptedNotSettled': 0,\n",
       " 'outgoingInFlightPayments': 0,\n",
       " 'outgoingInProgressPayouts': 0,\n",
       " 'outgoingPaymentFees': 0,\n",
       " 'outgoingInFlightPaymentFees': 0,\n",
       " 'outgoingPayoutFees': 0,\n",
       " 'outgoingInProgressPayoutFees': 0}"
      ]
     },
     "execution_count": 24,
     "metadata": {},
     "output_type": "execute_result"
    }
   ],
   "source": [
    "w1.getbalance()"
   ]
  },
  {
   "cell_type": "code",
   "execution_count": 25,
   "id": "9e461354",
   "metadata": {},
   "outputs": [],
   "source": [
    "w1.topupandmine6blocks(w1.newaddress(), 1000)"
   ]
  },
  {
   "cell_type": "code",
   "execution_count": 26,
   "id": "33127961",
   "metadata": {},
   "outputs": [
    {
     "data": {
      "text/plain": [
       "{'availableAmount': 4000,\n",
       " 'incomingNotConfirmed': 1000,\n",
       " 'incomingAcceptedNotSettled': 0,\n",
       " 'outgoingInFlightPayments': 0,\n",
       " 'outgoingInProgressPayouts': 0,\n",
       " 'outgoingPaymentFees': 0,\n",
       " 'outgoingInFlightPaymentFees': 0,\n",
       " 'outgoingPayoutFees': 0,\n",
       " 'outgoingInProgressPayoutFees': 0}"
      ]
     },
     "execution_count": 26,
     "metadata": {},
     "output_type": "execute_result"
    }
   ],
   "source": [
    "w1.getbalance()"
   ]
  },
  {
   "cell_type": "code",
   "execution_count": 27,
   "id": "2fb871d4",
   "metadata": {},
   "outputs": [
    {
     "data": {
      "text/plain": [
       "[{'paymentRequest': 'lnbcrt100u1pndl5fzpp5pa2g73ytraemyr6eaeakwldxhmrk3ffxlywazk60ca4sn67u7l9qdq8w3jhxaqcqzzsxqp2sp57h4eldzhscmw0gx40j2dyulvrkkgqtf3xfdxj5eq8xchletxf75s9p4gqqqqqqqqqqqqqqqqqqqqqqqqqqqqqqqqqqqqqqqqqqqqqqpqysgq7jkpfxh0nufyn76nsmt7c5y83c6e7gzqr0uvl50f6tvetfzqztl9898ykguljk22aq24kwzdkdl6nxykerq877tfhxw2evnntd6xxzcpjhv4eh',\n",
       "  'state': 2,\n",
       "  'isHodl': False,\n",
       "  'settleTime': '1970-01-01T00:00:00Z',\n",
       "  'paymentHash': '0f548f448b1f73b20f59ee7b677da6bec768a526f91dd15b4fc76b09ebdcf7ca',\n",
       "  'satoshis': 10000,\n",
       "  'paymentAddr': 'f5eb9fb4578636e7a0d57c94d273ec1dac802d31325a69532039b17fe5664fa9',\n",
       "  'memo': 'test',\n",
       "  'creationTime': '2024-09-10T04:54:58Z',\n",
       "  'expiryTime': '2024-09-10T04:55:08Z'},\n",
       " {'paymentRequest': 'lnbcrt100u1pndl52xpp5a0qkmk5t66vr4f525w9hu38cecejcylwg2gc7tdkevp7r3r4dc9sdq8w3jhxaqcqzzsxqp2sp5wwtteg78pzxhgv5f9nerce5jwx3w33kyyd92hxtgeczsarjsrgms9p4gqqqqqqqqqqqqqqqqqqqqqqqqqqqqqqqqqqqqqqqqqqqqqqpqysgq87cydxla6gqrtd2mh5m5nu556kuq37ktmlxylc680tkmpf7nxq5jmvzkqhc9pyfq90hg4nj4ux96stxwxeumdkc5ehe5rtx39yxw8fgptgfpfp',\n",
       "  'state': 2,\n",
       "  'isHodl': False,\n",
       "  'settleTime': '1970-01-01T00:00:00Z',\n",
       "  'paymentHash': 'ebc16dda8bd6983aa68aa38b7e44f8ce332c13ee42918f2db6cb03e1c4756e0b',\n",
       "  'satoshis': 10000,\n",
       "  'paymentAddr': '7396bca3c7088d7432892cf23c669271a2e8c6c4234aab9968ce050e8e501a37',\n",
       "  'memo': 'test',\n",
       "  'creationTime': '2024-09-10T04:55:34Z',\n",
       "  'expiryTime': '2024-09-10T04:55:44Z'}]"
      ]
     },
     "execution_count": 27,
     "metadata": {},
     "output_type": "execute_result"
    }
   ],
   "source": [
    "w1.listinvoices()"
   ]
  },
  {
   "cell_type": "code",
   "execution_count": 28,
   "id": "1b604e99",
   "metadata": {},
   "outputs": [
    {
     "data": {
      "text/plain": [
       "{'paymentRequest': 'lnbcrt100u1pnwzexzpp5j5y7jcatuxsvnn0xvh908v0w67ltmyrg3urkcn7zerru72wfuqfsdq8w3jhxaqcqzzsxqp2sp5lpyxq05clkrkdqh95nccgs8smlawh9aa9hswvlr45p80vrumgq7q9p4gqqqqqqqqqqqqqqqqqqqqqqqqqqqqqqqqqqqqqqqqqqqqqqpqysgq2e3hyhm42pp8vsj923usw7xhj3h0hvp5qpmnzrrmwe5e6cq3ptg9eruffvk7grydn8zj7mdw5n7c7cw3q0yfvl9fnamux02nl5aumgqqhqhwxt',\n",
       " 'state': 0,\n",
       " 'isHodl': False,\n",
       " 'settleTime': None,\n",
       " 'paymentHash': '9509e963abe1a0c9cde665caf3b1eed7bebd90688f076c4fc2c8c7cf29c9e013',\n",
       " 'satoshis': 10000,\n",
       " 'paymentAddr': 'f848603e98fd876682e5a4f18440f0dffaeb97bd2de0e67c75a04ef60f9b403c',\n",
       " 'memo': 'test',\n",
       " 'creationTime': '2024-09-11T09:37:06Z',\n",
       " 'expiryTime': '2024-09-11T09:37:16Z'}"
      ]
     },
     "execution_count": 28,
     "metadata": {},
     "output_type": "execute_result"
    }
   ],
   "source": [
    "w1.addinvoice(10000,\"test\",10)"
   ]
  },
  {
   "cell_type": "code",
   "execution_count": 29,
   "id": "fc87b342",
   "metadata": {},
   "outputs": [
    {
     "data": {
      "text/plain": [
       "[{'paymentRequest': 'lnbcrt100u1pndl5fzpp5pa2g73ytraemyr6eaeakwldxhmrk3ffxlywazk60ca4sn67u7l9qdq8w3jhxaqcqzzsxqp2sp57h4eldzhscmw0gx40j2dyulvrkkgqtf3xfdxj5eq8xchletxf75s9p4gqqqqqqqqqqqqqqqqqqqqqqqqqqqqqqqqqqqqqqqqqqqqqqpqysgq7jkpfxh0nufyn76nsmt7c5y83c6e7gzqr0uvl50f6tvetfzqztl9898ykguljk22aq24kwzdkdl6nxykerq877tfhxw2evnntd6xxzcpjhv4eh',\n",
       "  'state': 2,\n",
       "  'isHodl': False,\n",
       "  'settleTime': '1970-01-01T00:00:00Z',\n",
       "  'paymentHash': '0f548f448b1f73b20f59ee7b677da6bec768a526f91dd15b4fc76b09ebdcf7ca',\n",
       "  'satoshis': 10000,\n",
       "  'paymentAddr': 'f5eb9fb4578636e7a0d57c94d273ec1dac802d31325a69532039b17fe5664fa9',\n",
       "  'memo': 'test',\n",
       "  'creationTime': '2024-09-10T04:54:58Z',\n",
       "  'expiryTime': '2024-09-10T04:55:08Z'},\n",
       " {'paymentRequest': 'lnbcrt100u1pndl52xpp5a0qkmk5t66vr4f525w9hu38cecejcylwg2gc7tdkevp7r3r4dc9sdq8w3jhxaqcqzzsxqp2sp5wwtteg78pzxhgv5f9nerce5jwx3w33kyyd92hxtgeczsarjsrgms9p4gqqqqqqqqqqqqqqqqqqqqqqqqqqqqqqqqqqqqqqqqqqqqqqpqysgq87cydxla6gqrtd2mh5m5nu556kuq37ktmlxylc680tkmpf7nxq5jmvzkqhc9pyfq90hg4nj4ux96stxwxeumdkc5ehe5rtx39yxw8fgptgfpfp',\n",
       "  'state': 2,\n",
       "  'isHodl': False,\n",
       "  'settleTime': '1970-01-01T00:00:00Z',\n",
       "  'paymentHash': 'ebc16dda8bd6983aa68aa38b7e44f8ce332c13ee42918f2db6cb03e1c4756e0b',\n",
       "  'satoshis': 10000,\n",
       "  'paymentAddr': '7396bca3c7088d7432892cf23c669271a2e8c6c4234aab9968ce050e8e501a37',\n",
       "  'memo': 'test',\n",
       "  'creationTime': '2024-09-10T04:55:34Z',\n",
       "  'expiryTime': '2024-09-10T04:55:44Z'}]"
      ]
     },
     "execution_count": 29,
     "metadata": {},
     "output_type": "execute_result"
    }
   ],
   "source": [
    "w1.listinvoices()"
   ]
  },
  {
   "cell_type": "code",
   "execution_count": 30,
   "id": "209c49a0",
   "metadata": {},
   "outputs": [
    {
     "data": {
      "text/plain": [
       "{'paymentRequest': 'lnbcrt100u1pndlwhgpp5mr8kaqqyqheyysexwxc0gq9z9dwxqkehj0llhxea3kugl5r792nsdq8w3jhxaqcqzzsxqp2sp55a27w6eh97qz9mjvwp5pxxm52t7n5qe043uagvyc0qa7awqqq2ts9p4gqqqqqqqqqqqqqqqqqqqqqqqqqqqqqqqqqqqqqqqqqqqqqqpqysgqykzx29r0rz5lcuumzc0l32atuq4p2qtqjtdkgvcwrg8q7uv7v6hplvnkku465e6p7mh0zyau8frk6d9ks56qle6lgah3lrt0mw2ju3gq7rf8dq',\n",
       " 'state': 2,\n",
       " 'isHodl': False,\n",
       " 'settleTime': '1970-01-01T00:00:00Z',\n",
       " 'paymentHash': 'd8cf6e800405f242432671b0f400a22b5c605b3793fffb9b3d8db88fd07e2aa7',\n",
       " 'satoshis': 10000,\n",
       " 'paymentAddr': 'a755e76b372f8022ee4c7068131b7452fd3a032fac79d43098783beeb8000297',\n",
       " 'memo': 'test',\n",
       " 'creationTime': '2024-09-10T03:20:08Z',\n",
       " 'expiryTime': '2024-09-10T03:20:18Z'}"
      ]
     },
     "execution_count": 30,
     "metadata": {},
     "output_type": "execute_result"
    }
   ],
   "source": [
    "w1.getinvoice(\"d8cf6e800405f242432671b0f400a22b5c605b3793fffb9b3d8db88fd07e2aa7\")"
   ]
  },
  {
   "cell_type": "code",
   "execution_count": 31,
   "id": "85bc60e8",
   "metadata": {},
   "outputs": [],
   "source": [
    "from random import randbytes"
   ]
  },
  {
   "cell_type": "code",
   "execution_count": 32,
   "id": "fb6c6c13",
   "metadata": {},
   "outputs": [],
   "source": [
    "preim = randbytes(32)"
   ]
  },
  {
   "cell_type": "code",
   "execution_count": 33,
   "id": "df8ca2eb",
   "metadata": {},
   "outputs": [
    {
     "name": "stdout",
     "output_type": "stream",
     "text": [
      "{'value': {'paymentRequest': 'lnbcrt100u1pnwzexrpp5ekxft0rg28w4tfzwc79apnkuaghs8kyet0vch4krua5k5nw4x8kqdq8w3jhxaqcqzzsxqp2sp5q9w6q2j2xycl2la45zeaax0w7q2je42e6e3j9ceyleynk4z2qxvs9p4gqqqqqqqqqqqqqqqqqqqqqqqqqqqqqqqqqqqqqqqqqqqqqqpqysgqt30wqs2ye85fxcw2ycpvvlssg7kds36vydj7hrwy6llndm4mdxdqf3eyy7rq4g2ev5uw7fkt8usuz2x9r98y2ks64eljsulwgpr7esqpl2zagd', 'state': 0, 'isHodl': True, 'settleTime': None, 'paymentHash': 'cd8c95bc6851dd55a44ec78bd0cedcea2f03d8995bd98bd6c3e7696a4dd531ec', 'satoshis': 10000, 'paymentAddr': '015da02a4a3131f57fb5a0b3de99eef0152cd559d66322e324fe493b544a0199', 'memo': 'test', 'creationTime': '2024-09-11T09:37:07Z', 'expiryTime': '2024-09-11T09:37:17Z'}, 'errorCode': 0, 'errorMessage': ''}\n"
     ]
    },
    {
     "data": {
      "text/plain": [
       "{'paymentRequest': 'lnbcrt100u1pnwzexrpp5ekxft0rg28w4tfzwc79apnkuaghs8kyet0vch4krua5k5nw4x8kqdq8w3jhxaqcqzzsxqp2sp5q9w6q2j2xycl2la45zeaax0w7q2je42e6e3j9ceyleynk4z2qxvs9p4gqqqqqqqqqqqqqqqqqqqqqqqqqqqqqqqqqqqqqqqqqqqqqqpqysgqt30wqs2ye85fxcw2ycpvvlssg7kds36vydj7hrwy6llndm4mdxdqf3eyy7rq4g2ev5uw7fkt8usuz2x9r98y2ks64eljsulwgpr7esqpl2zagd',\n",
       " 'state': 0,\n",
       " 'isHodl': True,\n",
       " 'settleTime': None,\n",
       " 'paymentHash': 'cd8c95bc6851dd55a44ec78bd0cedcea2f03d8995bd98bd6c3e7696a4dd531ec',\n",
       " 'satoshis': 10000,\n",
       " 'paymentAddr': '015da02a4a3131f57fb5a0b3de99eef0152cd559d66322e324fe493b544a0199',\n",
       " 'memo': 'test',\n",
       " 'creationTime': '2024-09-11T09:37:07Z',\n",
       " 'expiryTime': '2024-09-11T09:37:17Z'}"
      ]
     },
     "execution_count": 33,
     "metadata": {},
     "output_type": "execute_result"
    }
   ],
   "source": [
    "w1.addhodlinvoice(10000,preim.hex(),\"test\",10)"
   ]
  },
  {
   "cell_type": "code",
   "execution_count": 34,
   "id": "c4bc7faa",
   "metadata": {},
   "outputs": [],
   "source": [
    "w1.settleinvoice(preim.hex())"
   ]
  },
  {
   "cell_type": "code",
   "execution_count": 35,
   "id": "58ea2361",
   "metadata": {},
   "outputs": [
    {
     "data": {
      "text/plain": [
       "[{'paymentRequest': 'lnbcrt100u1pndl5fzpp5pa2g73ytraemyr6eaeakwldxhmrk3ffxlywazk60ca4sn67u7l9qdq8w3jhxaqcqzzsxqp2sp57h4eldzhscmw0gx40j2dyulvrkkgqtf3xfdxj5eq8xchletxf75s9p4gqqqqqqqqqqqqqqqqqqqqqqqqqqqqqqqqqqqqqqqqqqqqqqpqysgq7jkpfxh0nufyn76nsmt7c5y83c6e7gzqr0uvl50f6tvetfzqztl9898ykguljk22aq24kwzdkdl6nxykerq877tfhxw2evnntd6xxzcpjhv4eh',\n",
       "  'state': 2,\n",
       "  'isHodl': False,\n",
       "  'settleTime': '1970-01-01T00:00:00Z',\n",
       "  'paymentHash': '0f548f448b1f73b20f59ee7b677da6bec768a526f91dd15b4fc76b09ebdcf7ca',\n",
       "  'satoshis': 10000,\n",
       "  'paymentAddr': 'f5eb9fb4578636e7a0d57c94d273ec1dac802d31325a69532039b17fe5664fa9',\n",
       "  'memo': 'test',\n",
       "  'creationTime': '2024-09-10T04:54:58Z',\n",
       "  'expiryTime': '2024-09-10T04:55:08Z'},\n",
       " {'paymentRequest': 'lnbcrt100u1pndl52xpp5a0qkmk5t66vr4f525w9hu38cecejcylwg2gc7tdkevp7r3r4dc9sdq8w3jhxaqcqzzsxqp2sp5wwtteg78pzxhgv5f9nerce5jwx3w33kyyd92hxtgeczsarjsrgms9p4gqqqqqqqqqqqqqqqqqqqqqqqqqqqqqqqqqqqqqqqqqqqqqqpqysgq87cydxla6gqrtd2mh5m5nu556kuq37ktmlxylc680tkmpf7nxq5jmvzkqhc9pyfq90hg4nj4ux96stxwxeumdkc5ehe5rtx39yxw8fgptgfpfp',\n",
       "  'state': 2,\n",
       "  'isHodl': False,\n",
       "  'settleTime': '1970-01-01T00:00:00Z',\n",
       "  'paymentHash': 'ebc16dda8bd6983aa68aa38b7e44f8ce332c13ee42918f2db6cb03e1c4756e0b',\n",
       "  'satoshis': 10000,\n",
       "  'paymentAddr': '7396bca3c7088d7432892cf23c669271a2e8c6c4234aab9968ce050e8e501a37',\n",
       "  'memo': 'test',\n",
       "  'creationTime': '2024-09-10T04:55:34Z',\n",
       "  'expiryTime': '2024-09-10T04:55:44Z'}]"
      ]
     },
     "execution_count": 35,
     "metadata": {},
     "output_type": "execute_result"
    }
   ],
   "source": [
    "w1.listinvoices()"
   ]
  },
  {
   "cell_type": "code",
   "execution_count": null,
   "id": "39166a72",
   "metadata": {},
   "outputs": [],
   "source": []
  }
 ],
 "metadata": {
  "kernelspec": {
   "display_name": "Python 3 (ipykernel)",
   "language": "python",
   "name": "python3"
  },
  "language_info": {
   "codemirror_mode": {
    "name": "ipython",
    "version": 3
   },
   "file_extension": ".py",
   "mimetype": "text/x-python",
   "name": "python",
   "nbconvert_exporter": "python",
   "pygments_lexer": "ipython3",
   "version": "3.10.9"
  }
 },
 "nbformat": 4,
 "nbformat_minor": 5
}
